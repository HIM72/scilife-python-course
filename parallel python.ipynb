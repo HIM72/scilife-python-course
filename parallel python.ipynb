{
 "metadata": {
  "name": "parallel python"
 },
 "nbformat": 3,
 "nbformat_minor": 0,
 "worksheets": [
  {
   "cells": [
    {
     "cell_type": "markdown",
     "metadata": {},
     "source": [
      "# Parallel computing with Python\n",
      "\n",
      "## `multiprocessing`\n",
      "\n",
      "The built in module `multiprocessing` provides functionality to create _processes_ which runs given tasks.\n",
      "\n",
      "http://docs.python.org/2/library/multiprocessing.html\n",
      "\n",
      "All strategies for paralleliztion has a rathe large overhead compared to lower level languages such as C or FORTRAN.\n",
      "\n",
      "The way `multiprocessing` runs code in parallel is by launching subprocesses with a seperate interpretor for for each process. This means that in order to gain speed the computation we want to perform should be relatively substantial.\n",
      "\n",
      "(In case you are familiar with threads: It should be noted that Python has a `threading` module for working with threads, however, all threads will be run on a single CPU.)\n",
      "\n",
      "Byt using multiprocessing we can utilize the machines we are running code on more efficiently"
     ]
    },
    {
     "cell_type": "code",
     "collapsed": false,
     "input": [
      "import multiprocessing"
     ],
     "language": "python",
     "metadata": {},
     "outputs": [],
     "prompt_number": 9
    },
    {
     "cell_type": "code",
     "collapsed": false,
     "input": [
      "multiprocessing.cpu_count()"
     ],
     "language": "python",
     "metadata": {},
     "outputs": [
      {
       "output_type": "pyout",
       "prompt_number": 16,
       "text": [
        "4"
       ]
      }
     ],
     "prompt_number": 16
    },
    {
     "cell_type": "markdown",
     "metadata": {},
     "source": [
      "Before talking about some more advanced featuers, let's describe the most typical use pattern of `multiprocessing`.\n",
      "\n",
      "Note: `multiprocessing` _can_ be used in the IPython Notebook, but there are sometimes issues with printing from subprocesses. To make things clearer and avoid complications we shall run external scripts in stead."
     ]
    },
    {
     "cell_type": "code",
     "collapsed": false,
     "input": [
      "%%file mp1.py\n",
      "import multiprocessing\n",
      "import os\n",
      "\n",
      "\n",
      "def task(args):\n",
      "    print \"Running process \", os.getpid(), \" with args \", args\n",
      "    return os.getpid(), args\n",
      "\n",
      "\n",
      "pool = multiprocessing.Pool(processes=4)\n",
      "result = pool.map(task, [1,2,3,4])\n",
      "print(result)"
     ],
     "language": "python",
     "metadata": {},
     "outputs": [
      {
       "output_type": "stream",
       "stream": "stdout",
       "text": [
        "Overwriting mp1.py\n"
       ]
      }
     ],
     "prompt_number": 35
    },
    {
     "cell_type": "code",
     "collapsed": false,
     "input": [
      "%%bash\n",
      "python mp1.py"
     ],
     "language": "python",
     "metadata": {},
     "outputs": [
      {
       "output_type": "stream",
       "stream": "stdout",
       "text": [
        "Running process  15073  with args  2\n",
        "Running process  15072  with args  3\n",
        "Running process  15074  with args  4\n",
        "Running process  15071  with args  1\n",
        "[(15071, 1), (15073, 2), (15072, 3), (15074, 4)]\n"
       ]
      }
     ],
     "prompt_number": 41
    },
    {
     "cell_type": "code",
     "collapsed": false,
     "input": [],
     "language": "python",
     "metadata": {},
     "outputs": []
    }
   ],
   "metadata": {}
  }
 ]
}