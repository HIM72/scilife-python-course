{
 "metadata": {
  "name": "parallel python"
 },
 "nbformat": 3,
 "nbformat_minor": 0,
 "worksheets": [
  {
   "cells": [
    {
     "cell_type": "markdown",
     "metadata": {},
     "source": [
      "# Parallel computing with Python\n",
      "\n",
      "## `multiprocessing`\n",
      "\n",
      "The built in module `multiprocessing` provides functionality to create _processes_ which runs given tasks.\n",
      "\n",
      "http://docs.python.org/2/library/multiprocessing.html\n",
      "\n",
      "All strategies for paralleliztion has a rathe large overhead compared to lower level languages such as C or FORTRAN.\n",
      "\n",
      "The way `multiprocessing` runs code in parallel is by launching subprocesses with a seperate interpretor for for each process. This means that in order to gain speed the computation we want to perform should be relatively substantial.\n",
      "\n",
      "(In case you are familiar with threads: It should be noted that Python has a `threading` module for working with threads, however, all threads will be run on a single CPU.)\n",
      "\n",
      "Byt using multiprocessing we can utilize the machines we are running code on more efficiently"
     ]
    },
    {
     "cell_type": "code",
     "collapsed": false,
     "input": [
      "import multiprocessing"
     ],
     "language": "python",
     "metadata": {},
     "outputs": [],
     "prompt_number": 1
    },
    {
     "cell_type": "code",
     "collapsed": false,
     "input": [
      "multiprocessing.cpu_count()"
     ],
     "language": "python",
     "metadata": {},
     "outputs": [
      {
       "output_type": "pyout",
       "prompt_number": 2,
       "text": [
        "16"
       ]
      }
     ],
     "prompt_number": 2
    },
    {
     "cell_type": "markdown",
     "metadata": {},
     "source": [
      "Before talking about some more advanced featuers, let's describe the most typical use pattern of `multiprocessing`.\n",
      "\n",
      "Note: `multiprocessing` _can_ be used in the IPython Notebook, but there are sometimes issues with printing from subprocesses. To make things clearer and avoid complications we shall run external scripts in stead."
     ]
    },
    {
     "cell_type": "markdown",
     "metadata": {},
     "source": [
      "### `Process`\n",
      "Processes share nothing\n",
      "\n",
      "To spawn a process, initiate it with a target function and call the `.start()` method.\n",
      "\n",
      "This method will arrange things so that given code will be run in a seperate process from the parent process. To get the parent process to wait until a process has finished before moving on one need to call the `.join()` method."
     ]
    },
    {
     "cell_type": "code",
     "collapsed": false,
     "input": [
      "import os\n",
      "os.getpid()"
     ],
     "language": "python",
     "metadata": {},
     "outputs": [
      {
       "output_type": "pyout",
       "prompt_number": 4,
       "text": [
        "83928"
       ]
      }
     ],
     "prompt_number": 4
    },
    {
     "cell_type": "code",
     "collapsed": false,
     "input": [
      "%%file mp.py\n",
      "from multiprocessing import Process\n",
      "import os\n",
      "\n",
      "def worker():\n",
      "    print(\"Worker process {}\".format(os.getpid()))\n",
      "\n",
      "if __name__ == \"__main__\":\n",
      "    proc1 = Process(target=worker)\n",
      "    proc1.start()\n",
      "    proc2 = Process(target=worker)\n",
      "    proc2.start()"
     ],
     "language": "python",
     "metadata": {},
     "outputs": [
      {
       "output_type": "stream",
       "stream": "stdout",
       "text": [
        "Overwriting mp.py\n"
       ]
      }
     ],
     "prompt_number": 7
    },
    {
     "cell_type": "code",
     "collapsed": false,
     "input": [
      "%%bash\n",
      "python mp.py"
     ],
     "language": "python",
     "metadata": {},
     "outputs": [
      {
       "output_type": "stream",
       "stream": "stdout",
       "text": [
        "Worker process 87461\n",
        "Worker process 87462\n"
       ]
      }
     ],
     "prompt_number": 8
    },
    {
     "cell_type": "markdown",
     "metadata": {},
     "source": [
      "To get the target function to actually work on some input, you need to provide the arguments in the constructur of the `Process`."
     ]
    },
    {
     "cell_type": "code",
     "collapsed": false,
     "input": [
      "%%file mp.py\n",
      "from multiprocessing import Process\n",
      "import os\n",
      "\n",
      "def worker(arg):\n",
      "    print(\"Worker process {}, argument was {}\".format(os.getpid(), arg))\n",
      "\n",
      "if __name__ == \"__main__\":\n",
      "    proc1 = Process(target=worker, args=(10,))\n",
      "    proc1.start()\n",
      "    proc2 = Process(target=worker, args=(11,))\n",
      "    proc2.start()"
     ],
     "language": "python",
     "metadata": {},
     "outputs": [
      {
       "output_type": "stream",
       "stream": "stdout",
       "text": [
        "Overwriting mp.py\n"
       ]
      }
     ],
     "prompt_number": 9
    },
    {
     "cell_type": "code",
     "collapsed": false,
     "input": [
      "%%bash\n",
      "python mp.py"
     ],
     "language": "python",
     "metadata": {},
     "outputs": [
      {
       "output_type": "stream",
       "stream": "stdout",
       "text": [
        "Worker process 87490, argument was 10\n",
        "Worker process 87491, argument was 11\n"
       ]
      }
     ],
     "prompt_number": 10
    },
    {
     "cell_type": "markdown",
     "metadata": {},
     "source": [
      "Processes communicate over interprocess communication channel\n",
      "\n",
      "- `Queue`\n",
      "- `Pipe`"
     ]
    },
    {
     "cell_type": "markdown",
     "metadata": {},
     "source": [
      "### `Pipe`\n",
      "\n",
      "Gives a pair of connection objects which are connected by a pipe. Uses `send` and `recv` methods on objects to comminucate between processes."
     ]
    },
    {
     "cell_type": "markdown",
     "metadata": {},
     "source": [
      "### `Queue`\n",
      "\n",
      "Gives a thread and process safe queue shared between processes. Can contain any pickle-able object."
     ]
    },
    {
     "cell_type": "code",
     "collapsed": false,
     "input": [
      "%%file mp2.py\n",
      "from multiprocessing import Process, Queue\n",
      "import os\n",
      "\n",
      "def worker(tasks, results):\n",
      "    t = tasks.get()\n",
      "    result = t * 2\n",
      "    results.put([os.getpid(), t, \"->\", result])\n",
      "\n",
      "if __name__ == \"__main__\":\n",
      "    n = 20\n",
      "    my_tasks = Queue()\n",
      "    my_results = Queue()\n",
      "    \n",
      "    workers = [Process(target=worker, args=(my_tasks, my_results)) for i in range(n)]\n",
      "    \n",
      "    for proc in workers:\n",
      "        proc.start()\n",
      "    \n",
      "    for i in range(n):\n",
      "        my_tasks.put(i)\n",
      "    \n",
      "    for i in range(n):\n",
      "        result = my_results.get()\n",
      "        print(result)"
     ],
     "language": "python",
     "metadata": {},
     "outputs": [
      {
       "output_type": "stream",
       "stream": "stdout",
       "text": [
        "Overwriting mp2.py\n"
       ]
      }
     ],
     "prompt_number": 11
    },
    {
     "cell_type": "code",
     "collapsed": false,
     "input": [
      "%%bash\n",
      "python mp2.py"
     ],
     "language": "python",
     "metadata": {},
     "outputs": [
      {
       "output_type": "stream",
       "stream": "stdout",
       "text": [
        "[87680, 0, '->', 0]\n",
        "[87681, 1, '->', 2]\n",
        "[87682, 2, '->', 4]\n",
        "[87683, 3, '->', 6]\n",
        "[87685, 5, '->', 10]\n",
        "[87684, 4, '->', 8]\n",
        "[87687, 7, '->', 14]\n",
        "[87686, 6, '->', 12]\n",
        "[87688, 8, '->', 16]\n",
        "[87689, 9, '->', 18]\n",
        "[87691, 11, '->', 22]\n",
        "[87690, 10, '->', 20]\n",
        "[87693, 13, '->', 26]\n",
        "[87692, 12, '->', 24]\n",
        "[87694, 14, '->', 28]\n",
        "[87695, 15, '->', 30]\n",
        "[87696, 16, '->', 32]\n",
        "[87697, 17, '->', 34]\n",
        "[87699, 19, '->', 38]\n",
        "[87698, 18, '->', 36]\n"
       ]
      }
     ],
     "prompt_number": 12
    },
    {
     "cell_type": "markdown",
     "metadata": {},
     "source": [
      "Because the processes are executed in parallel we can never know the order of results being put in the `Queue`."
     ]
    },
    {
     "cell_type": "code",
     "collapsed": false,
     "input": [
      "from multiprocessing import Queue"
     ],
     "language": "python",
     "metadata": {},
     "outputs": [],
     "prompt_number": 13
    },
    {
     "cell_type": "code",
     "collapsed": false,
     "input": [
      "q = Queue()"
     ],
     "language": "python",
     "metadata": {},
     "outputs": [],
     "prompt_number": 14
    },
    {
     "cell_type": "code",
     "collapsed": false,
     "input": [
      "q.get?"
     ],
     "language": "python",
     "metadata": {},
     "outputs": [],
     "prompt_number": 15
    },
    {
     "cell_type": "markdown",
     "metadata": {},
     "source": [
      "### `Manager`\n",
      "\n",
      "A special `Process` which holds Python objects so that other processes can manipulate them.\n",
      "When a managed object is manipulated somewhere, the manager will make sure the change is propagated to any other processes using the managed object."
     ]
    },
    {
     "cell_type": "code",
     "collapsed": false,
     "input": [
      "%%file mp3.py\n",
      "from multiprocessing import Process, Manager\n",
      "import os\n",
      "\n",
      "def worker(l):\n",
      "    p = os.getpid()\n",
      "    l[int(str(p)[-2:])] = p\n",
      "\n",
      "\n",
      "if __name__ == \"__main__\":\n",
      "    n = 100\n",
      "    manager = Manager()\n",
      "    l = manager.list()\n",
      "    l.extend([0] * n)\n",
      "    \n",
      "    processes = [Process(target=worker, args=(l,)) for i in range(20)]\n",
      "    \n",
      "    for proc in processes:\n",
      "        proc.start()\n",
      "    \n",
      "    for proc in processes:\n",
      "        proc.join()\n",
      "    \n",
      "    print(l)"
     ],
     "language": "python",
     "metadata": {},
     "outputs": [
      {
       "output_type": "stream",
       "stream": "stdout",
       "text": [
        "Overwriting mp3.py\n"
       ]
      }
     ],
     "prompt_number": 16
    },
    {
     "cell_type": "code",
     "collapsed": false,
     "input": [
      "%%bash\n",
      "python mp3.py"
     ],
     "language": "python",
     "metadata": {},
     "outputs": [
      {
       "output_type": "stream",
       "stream": "stdout",
       "text": [
        "[0, 0, 0, 0, 0, 0, 0, 0, 0, 0, 0, 0, 0, 0, 0, 0, 0, 0, 0, 0, 0, 0, 0, 0, 87824, 87825, 87826, 87827, 87828, 87829, 87830, 87831, 87832, 87833, 87834, 87835, 87836, 87837, 87838, 87839, 87840, 87841, 87842, 87843, 0, 0, 0, 0, 0, 0, 0, 0, 0, 0, 0, 0, 0, 0, 0, 0, 0, 0, 0, 0, 0, 0, 0, 0, 0, 0, 0, 0, 0, 0, 0, 0, 0, 0, 0, 0, 0, 0, 0, 0, 0, 0, 0, 0, 0, 0, 0, 0, 0, 0, 0, 0, 0, 0, 0, 0]\n"
       ]
      }
     ],
     "prompt_number": 17
    },
    {
     "cell_type": "markdown",
     "metadata": {},
     "source": [
      "### `Pool`\n",
      "\n",
      "The `Pool` class distributes work between workers and collects the results as a list. It is _extremely_ handy for quickly implementing some simple parallelization."
     ]
    },
    {
     "cell_type": "code",
     "collapsed": false,
     "input": [
      "%%file mp.py\n",
      "import multiprocessing\n",
      "import os\n",
      "\n",
      "\n",
      "def task(args):\n",
      "    print \"Running process\", os.getpid(), \"with args\", args\n",
      "    return os.getpid(), args\n",
      "\n",
      "\n",
      "if __name__ == \"__main__\":\n",
      "    pool = multiprocessing.Pool(processes=4)\n",
      "    result = pool.map(task, [1,2,3,4]*3)\n",
      "    print(result)"
     ],
     "language": "python",
     "metadata": {},
     "outputs": [
      {
       "output_type": "stream",
       "stream": "stdout",
       "text": [
        "Overwriting mp.py\n"
       ]
      }
     ],
     "prompt_number": 20
    },
    {
     "cell_type": "code",
     "collapsed": false,
     "input": [
      "%%bash\n",
      "python mp.py"
     ],
     "language": "python",
     "metadata": {},
     "outputs": [
      {
       "output_type": "stream",
       "stream": "stdout",
       "text": [
        "Running process 88078 with args 4\n",
        "Running process 88077 with args 3\n",
        "Running process 88077 with args 3\n",
        "Running process 88077 with args 2\n",
        "Running process 88075 with args 1\n",
        "Running process 88075 with args 1\n",
        "Running process 88075 with args 4\n",
        "Running process 88075 with args 3\n",
        "Running process 88076 with args 2\n",
        "Running process 88076 with args 2\n",
        "Running process 88076 with args 1\n",
        "Running process 88076 with args 4\n",
        "[(88075, 1), (88076, 2), (88077, 3), (88078, 4), (88075, 1), (88076, 2), (88077, 3), (88075, 4), (88076, 1), (88077, 2), (88075, 3), (88076, 4)]\n"
       ]
      }
     ],
     "prompt_number": 21
    },
    {
     "cell_type": "markdown",
     "metadata": {},
     "source": [
      "The method `.map()` works like the built in function `map()`, but will send data from the iterable to different processes. By default it will send one element at a time, but this can be changed with the `chunksize` parameter.\n",
      "\n",
      "A similar method called `.map_async()` usually performs better in parallel, but in that case one has to fetch the results using a `.get()` method of the returned value of `.map_async()` (which is an instance of the class `AsyncResult`)."
     ]
    },
    {
     "cell_type": "code",
     "collapsed": false,
     "input": [
      "%%file mp.py\n",
      "import multiprocessing\n",
      "import os\n",
      "\n",
      "def task(args):\n",
      "    print \"Running process\", os.getpid(), \"with args\", args\n",
      "    return os.getpid(), args\n",
      "\n",
      "\n",
      "if __name__ == \"__main__\":\n",
      "    pool = multiprocessing.Pool(processes=4)\n",
      "    result = pool.map_async(task, [1,2,3,4])\n",
      "    print(result.get())"
     ],
     "language": "python",
     "metadata": {},
     "outputs": [
      {
       "output_type": "stream",
       "stream": "stdout",
       "text": [
        "Overwriting mp.py\n"
       ]
      }
     ],
     "prompt_number": 22
    },
    {
     "cell_type": "code",
     "collapsed": false,
     "input": [
      "%%bash\n",
      "python mp.py"
     ],
     "language": "python",
     "metadata": {},
     "outputs": [
      {
       "output_type": "stream",
       "stream": "stdout",
       "text": [
        "Running process 88108 with args 1\n",
        "Running process 88109 with args 2\n",
        "Running process 88110 with args 3\n",
        "Running process 88111 with args 4\n",
        "[(88108, 1), (88109, 2), (88110, 3), (88111, 4)]\n"
       ]
      }
     ],
     "prompt_number": 23
    },
    {
     "cell_type": "markdown",
     "metadata": {},
     "source": [
      "## IPython Parallel\n",
      "\n",
      "http://ipython.org/ipython-doc/dev/parallel/\n",
      "\n",
      "The strategy for achieving parallelization in IPython Parallel differs from `multiprocessing` in that you need to start _engine_ processes and a _hub_ process before you want to run code.\n",
      "\n",
      "One then connect to the hub, which will aid in the distrubution of work across the engines.\n",
      "\n",
      "When IPython is installed, a program `ipcluster` is also installed which simplifies starting engines and hub. To start a cluster with 4 workers one would run \n",
      "\n",
      "    $ ipcluster start -n 4\n",
      "\n",
      "\n",
      "In the IPython Notebook, clusters can also be started from the IPython Dashboard."
     ]
    },
    {
     "cell_type": "code",
     "collapsed": false,
     "input": [
      "from IPython.parallel import Client"
     ],
     "language": "python",
     "metadata": {},
     "outputs": [],
     "prompt_number": 24
    },
    {
     "cell_type": "markdown",
     "metadata": {},
     "source": [
      "Let's try initiating the client before we have started the cluster!"
     ]
    },
    {
     "cell_type": "code",
     "collapsed": false,
     "input": [
      "cli = Client()"
     ],
     "language": "python",
     "metadata": {},
     "outputs": [
      {
       "ename": "IOError",
       "evalue": "Connection file not found: u'/Users/vale/.ipython/profile_default/security/ipcontroller-client.json'",
       "output_type": "pyerr",
       "traceback": [
        "\u001b[0;31m---------------------------------------------------------------------------\u001b[0m\n\u001b[0;31mIOError\u001b[0m                                   Traceback (most recent call last)",
        "\u001b[0;32m<ipython-input-25-e24bb842824a>\u001b[0m in \u001b[0;36m<module>\u001b[0;34m()\u001b[0m\n\u001b[0;32m----> 1\u001b[0;31m \u001b[0mcli\u001b[0m \u001b[0;34m=\u001b[0m \u001b[0mClient\u001b[0m\u001b[0;34m(\u001b[0m\u001b[0;34m)\u001b[0m\u001b[0;34m\u001b[0m\u001b[0m\n\u001b[0m",
        "\u001b[0;32m/Users/vale/.virtualenvs/devel/lib/python2.7/site-packages/IPython/parallel/client/client.pyc\u001b[0m in \u001b[0;36m__init__\u001b[0;34m(self, url_or_file, profile, profile_dir, ipython_dir, context, debug, exec_key, sshserver, sshkey, password, paramiko, timeout, **extra_args)\u001b[0m\n\u001b[1;32m    409\u001b[0m                     \u001b[0murl_or_file\u001b[0m \u001b[0;34m=\u001b[0m \u001b[0mos\u001b[0m\u001b[0;34m.\u001b[0m\u001b[0mpath\u001b[0m\u001b[0;34m.\u001b[0m\u001b[0mjoin\u001b[0m\u001b[0;34m(\u001b[0m\u001b[0mself\u001b[0m\u001b[0;34m.\u001b[0m\u001b[0m_cd\u001b[0m\u001b[0;34m.\u001b[0m\u001b[0msecurity_dir\u001b[0m\u001b[0;34m,\u001b[0m \u001b[0murl_or_file\u001b[0m\u001b[0;34m)\u001b[0m\u001b[0;34m\u001b[0m\u001b[0m\n\u001b[1;32m    410\u001b[0m                 \u001b[0;32mif\u001b[0m \u001b[0;32mnot\u001b[0m \u001b[0mos\u001b[0m\u001b[0;34m.\u001b[0m\u001b[0mpath\u001b[0m\u001b[0;34m.\u001b[0m\u001b[0mexists\u001b[0m\u001b[0;34m(\u001b[0m\u001b[0murl_or_file\u001b[0m\u001b[0;34m)\u001b[0m\u001b[0;34m:\u001b[0m\u001b[0;34m\u001b[0m\u001b[0m\n\u001b[0;32m--> 411\u001b[0;31m                     \u001b[0;32mraise\u001b[0m \u001b[0mIOError\u001b[0m\u001b[0;34m(\u001b[0m\u001b[0;34m\"Connection file not found: %r\"\u001b[0m \u001b[0;34m%\u001b[0m \u001b[0murl_or_file\u001b[0m\u001b[0;34m)\u001b[0m\u001b[0;34m\u001b[0m\u001b[0m\n\u001b[0m\u001b[1;32m    412\u001b[0m             \u001b[0;32mwith\u001b[0m \u001b[0mopen\u001b[0m\u001b[0;34m(\u001b[0m\u001b[0murl_or_file\u001b[0m\u001b[0;34m)\u001b[0m \u001b[0;32mas\u001b[0m \u001b[0mf\u001b[0m\u001b[0;34m:\u001b[0m\u001b[0;34m\u001b[0m\u001b[0m\n\u001b[1;32m    413\u001b[0m                 \u001b[0mcfg\u001b[0m \u001b[0;34m=\u001b[0m \u001b[0mjson\u001b[0m\u001b[0;34m.\u001b[0m\u001b[0mloads\u001b[0m\u001b[0;34m(\u001b[0m\u001b[0mf\u001b[0m\u001b[0;34m.\u001b[0m\u001b[0mread\u001b[0m\u001b[0;34m(\u001b[0m\u001b[0;34m)\u001b[0m\u001b[0;34m)\u001b[0m\u001b[0;34m\u001b[0m\u001b[0m\n",
        "\u001b[0;31mIOError\u001b[0m: Connection file not found: u'/Users/vale/.ipython/profile_default/security/ipcontroller-client.json'"
       ]
      }
     ],
     "prompt_number": 25
    },
    {
     "cell_type": "markdown",
     "metadata": {},
     "source": [
      "IPython keeps track of addresses and such of local engines in the `.ipython` directory in your home folder. But `Client()` can also take a URL or a path to a configuration file with information on how to connect to the cluster.\n",
      "\n",
      "Now start the cluster (either in terminal or on the Dashboard)"
     ]
    },
    {
     "cell_type": "code",
     "collapsed": false,
     "input": [
      "cli = Client()"
     ],
     "language": "python",
     "metadata": {},
     "outputs": [],
     "prompt_number": 26
    },
    {
     "cell_type": "code",
     "collapsed": false,
     "input": [
      "cli.ids"
     ],
     "language": "python",
     "metadata": {},
     "outputs": [
      {
       "output_type": "pyout",
       "prompt_number": 27,
       "text": [
        "[0, 1, 2, 3, 4, 5, 6, 7]"
       ]
      }
     ],
     "prompt_number": 27
    },
    {
     "cell_type": "markdown",
     "metadata": {},
     "source": [
      "The `ids` field lists the engines in the cluster.\n",
      "\n",
      "Say we want to have a look at the pid like we have done for all the `multiprocessing` exampels."
     ]
    },
    {
     "cell_type": "code",
     "collapsed": false,
     "input": [
      "def get_pid():\n",
      "    import os\n",
      "    return os.getpid()"
     ],
     "language": "python",
     "metadata": {},
     "outputs": [],
     "prompt_number": 28
    },
    {
     "cell_type": "code",
     "collapsed": false,
     "input": [
      "cli[0].apply_sync(get_pid)"
     ],
     "language": "python",
     "metadata": {},
     "outputs": [
      {
       "output_type": "pyout",
       "prompt_number": 29,
       "text": [
        "88707"
       ]
      }
     ],
     "prompt_number": 29
    },
    {
     "cell_type": "code",
     "collapsed": false,
     "input": [
      "get_pid()"
     ],
     "language": "python",
     "metadata": {},
     "outputs": [
      {
       "output_type": "pyout",
       "prompt_number": 30,
       "text": [
        "83928"
       ]
      }
     ],
     "prompt_number": 30
    },
    {
     "cell_type": "markdown",
     "metadata": {},
     "source": [
      "We need to `import os` in the function we send to the engine. That engine was started without any imported functions. Every time we want the engines to have some data, we need to explicitly send it to them. Or instructions on how to get it in the case of `import`.\n",
      "\n",
      "There is a method for syncing import across engines."
     ]
    },
    {
     "cell_type": "code",
     "collapsed": false,
     "input": [
      "cli[:].apply_sync(get_pid)"
     ],
     "language": "python",
     "metadata": {},
     "outputs": [
      {
       "output_type": "pyout",
       "prompt_number": 33,
       "text": [
        "[88707, 88708, 88706, 88709, 88710, 88711, 88712, 88713]"
       ]
      }
     ],
     "prompt_number": 33
    },
    {
     "cell_type": "markdown",
     "metadata": {},
     "source": [
      "A collection of engines is referred to as an _engine pool_, the standard _view_ to an engine pool is called a _direct view_."
     ]
    },
    {
     "cell_type": "code",
     "collapsed": false,
     "input": [
      "dview = cli[:]"
     ],
     "language": "python",
     "metadata": {},
     "outputs": [],
     "prompt_number": 34
    },
    {
     "cell_type": "markdown",
     "metadata": {},
     "source": [
      "The direct view provides a decorator which can be used to make any function parallelized."
     ]
    },
    {
     "cell_type": "code",
     "collapsed": false,
     "input": [
      "@dview.parallel(block=True)\n",
      "def pstr(x):\n",
      "    return str(x)"
     ],
     "language": "python",
     "metadata": {},
     "outputs": [],
     "prompt_number": 35
    },
    {
     "cell_type": "markdown",
     "metadata": {},
     "source": [
      "After the `.parallel` decorater have been used on a function, it is changed in such a way that arguments given to the function will be split up, sent to engines, then put together again after the calculation is done.\n",
      "\n",
      "The new `ParallelFunction` also has a `.map()` method which will run the function for each of the values in an iterable on different engines, and return the list of results when it's done."
     ]
    },
    {
     "cell_type": "code",
     "collapsed": false,
     "input": [
      "str(range(10))"
     ],
     "language": "python",
     "metadata": {},
     "outputs": [
      {
       "output_type": "pyout",
       "prompt_number": 36,
       "text": [
        "'[0, 1, 2, 3, 4, 5, 6, 7, 8, 9]'"
       ]
      }
     ],
     "prompt_number": 36
    },
    {
     "cell_type": "code",
     "collapsed": false,
     "input": [
      "pstr(range(10))"
     ],
     "language": "python",
     "metadata": {},
     "outputs": [
      {
       "output_type": "pyout",
       "prompt_number": 37,
       "text": [
        "['[0, 1]', '[2, 3]', '[4]', '[5]', '[6]', '[7]', '[8]', '[9]']"
       ]
      }
     ],
     "prompt_number": 37
    },
    {
     "cell_type": "code",
     "collapsed": false,
     "input": [
      "pstr.map(range(10))"
     ],
     "language": "python",
     "metadata": {},
     "outputs": [
      {
       "output_type": "pyout",
       "prompt_number": 38,
       "text": [
        "['0', '1', '2', '3', '4', '5', '6', '7', '8', '9']"
       ]
      }
     ],
     "prompt_number": 38
    },
    {
     "cell_type": "code",
     "collapsed": false,
     "input": [
      "from numpy import random"
     ],
     "language": "python",
     "metadata": {},
     "outputs": [],
     "prompt_number": 39
    },
    {
     "cell_type": "code",
     "collapsed": false,
     "input": [
      "@dview.parallel(block=True)\n",
      "def task(delay):\n",
      "    import os, time\n",
      "    \n",
      "    t0 = time.time()\n",
      "    pid = os.getpid()\n",
      "    time.sleep(delay)\n",
      "    t1 = time.time()\n",
      "    \n",
      "    return [pid, t0, t1]"
     ],
     "language": "python",
     "metadata": {},
     "outputs": [],
     "prompt_number": 40
    },
    {
     "cell_type": "code",
     "collapsed": false,
     "input": [
      "delays = random.rand(4)"
     ],
     "language": "python",
     "metadata": {},
     "outputs": [],
     "prompt_number": 43
    },
    {
     "cell_type": "code",
     "collapsed": false,
     "input": [
      "task.map(delays)"
     ],
     "language": "python",
     "metadata": {},
     "outputs": [
      {
       "output_type": "pyout",
       "prompt_number": 44,
       "text": [
        "[[88707, 1361974304.03308, 1361974304.959194],\n",
        " [88708, 1361974304.034218, 1361974304.233133],\n",
        " [88706, 1361974304.035217, 1361974304.954711],\n",
        " [88709, 1361974304.036044, 1361974304.276678]]"
       ]
      }
     ],
     "prompt_number": 44
    },
    {
     "cell_type": "code",
     "collapsed": false,
     "input": [
      "def visualize_tasks(results):\n",
      "    res = np.array(results)\n",
      "    fig, ax = plt.subplots(figsize=(10, res.shape[1]))\n",
      "    \n",
      "    yticks = []\n",
      "    yticklabels = []\n",
      "    tmin = min(res[:,1])\n",
      "    for n, pid in enumerate(np.unique(res[:,0])):\n",
      "        yticks.append(n)\n",
      "        yticklabels.append(\"%d\" % pid)\n",
      "        for m in np.where(res[:,0] == pid)[0]:\n",
      "            ax.add_patch(Rectangle((res[m,1] - tmin, n-0.25),\n",
      "                         res[m,2] - res[m,1], 0.5, color=\"green\", alpha=0.5))\n",
      "        \n",
      "    ax.set_ylim(-.5, n+.5)\n",
      "    ax.set_xlim(0, max(res[:,2]) - tmin + 0.)\n",
      "    ax.set_yticks(yticks)\n",
      "    ax.set_yticklabels(yticklabels)\n",
      "    ax.set_ylabel(\"PID\")\n",
      "    ax.set_xlabel(\"seconds\")"
     ],
     "language": "python",
     "metadata": {},
     "outputs": [],
     "prompt_number": 45
    },
    {
     "cell_type": "code",
     "collapsed": false,
     "input": [
      "delays = random.rand(100) / 4."
     ],
     "language": "python",
     "metadata": {},
     "outputs": [],
     "prompt_number": 46
    },
    {
     "cell_type": "code",
     "collapsed": false,
     "input": [
      "result = task.map(delays)"
     ],
     "language": "python",
     "metadata": {},
     "outputs": [],
     "prompt_number": 47
    },
    {
     "cell_type": "code",
     "collapsed": false,
     "input": [
      "visualize_tasks(result)"
     ],
     "language": "python",
     "metadata": {},
     "outputs": [
      {
       "output_type": "display_data",
       "png": "[encoded data removed]"
      }
     ],
     "prompt_number": 48
    },
    {
     "cell_type": "markdown",
     "metadata": {},
     "source": [
      "There are more views to engine pools, one of them is the `load_balanced_view` which automatically helps utilize engines which normally would sit aroudn idly waiting for other engines to finish."
     ]
    },
    {
     "cell_type": "code",
     "collapsed": false,
     "input": [
      "lbview = cli.load_balanced_view()"
     ],
     "language": "python",
     "metadata": {},
     "outputs": [],
     "prompt_number": 49
    },
    {
     "cell_type": "code",
     "collapsed": false,
     "input": [
      "@lbview.parallel(block=True)\n",
      "def lb_task(delay):\n",
      "    import os, time\n",
      "    \n",
      "    t0 = time.time()\n",
      "    pid = os.getpid()\n",
      "    time.sleep(delay)\n",
      "    t1 = time.time()\n",
      "    \n",
      "    return [pid, t0, t1]"
     ],
     "language": "python",
     "metadata": {},
     "outputs": [],
     "prompt_number": 50
    },
    {
     "cell_type": "code",
     "collapsed": false,
     "input": [
      "result = lb_task.map(delays)"
     ],
     "language": "python",
     "metadata": {},
     "outputs": [],
     "prompt_number": 51
    },
    {
     "cell_type": "code",
     "collapsed": false,
     "input": [
      "visualize_tasks(result)"
     ],
     "language": "python",
     "metadata": {},
     "outputs": [
      {
       "output_type": "display_data",
       "png": "[encoded data removed]"
      }
     ],
     "prompt_number": 52
    },
    {
     "cell_type": "markdown",
     "metadata": {},
     "source": [
      "(Load balancing visualization example from http://nbviewer.ipython.org/urls/raw.github.com/jrjohansson/scientific-python-lectures/master/Lecture-6B-HPC.ipynb )"
     ]
    },
    {
     "cell_type": "markdown",
     "metadata": {},
     "source": [
      "To make sure that engines have the same modules loaded, one can use the method `.sync_imports()` of an engine pool view."
     ]
    },
    {
     "cell_type": "code",
     "collapsed": false,
     "input": [
      "with dview.sync_imports():\n",
      "    import numpy\n",
      "    import os"
     ],
     "language": "python",
     "metadata": {},
     "outputs": [
      {
       "output_type": "stream",
       "stream": "stdout",
       "text": [
        "importing numpy on engine(s)\n",
        "importing os on engine(s)\n"
       ]
      }
     ],
     "prompt_number": 53
    },
    {
     "cell_type": "code",
     "collapsed": false,
     "input": [
      "%%px\n",
      "os.getpid()"
     ],
     "language": "python",
     "metadata": {},
     "outputs": [
      {
       "output_type": "display_data",
       "text": [
        "\u001b[0;31mOut[0:1]: \u001b[0m88707"
       ]
      },
      {
       "output_type": "display_data",
       "text": [
        "\u001b[0;31mOut[1:1]: \u001b[0m88708"
       ]
      },
      {
       "output_type": "display_data",
       "text": [
        "\u001b[0;31mOut[2:1]: \u001b[0m88706"
       ]
      },
      {
       "output_type": "display_data",
       "text": [
        "\u001b[0;31mOut[3:1]: \u001b[0m88709"
       ]
      },
      {
       "output_type": "display_data",
       "text": [
        "\u001b[0;31mOut[4:1]: \u001b[0m88710"
       ]
      },
      {
       "output_type": "display_data",
       "text": [
        "\u001b[0;31mOut[5:1]: \u001b[0m88711"
       ]
      },
      {
       "output_type": "display_data",
       "text": [
        "\u001b[0;31mOut[6:1]: \u001b[0m88712"
       ]
      },
      {
       "output_type": "display_data",
       "text": [
        "\u001b[0;31mOut[7:1]: \u001b[0m88713"
       ]
      }
     ],
     "prompt_number": 54
    },
    {
     "cell_type": "markdown",
     "metadata": {},
     "source": [
      "Since the engines will not have the same namespace as any interpreter that might want to use them, if we want them to have the same data to work on one need to send that data to the engines.\n",
      "\n",
      "This is done with the `.push()` method of an engine pool view."
     ]
    },
    {
     "cell_type": "code",
     "collapsed": false,
     "input": [
      "dview.push(dict(a=np.arange(5), b=np.zeros(5)), block=True)"
     ],
     "language": "python",
     "metadata": {},
     "outputs": [
      {
       "output_type": "pyout",
       "prompt_number": 55,
       "text": [
        "[None, None, None, None, None, None, None, None]"
       ]
      }
     ],
     "prompt_number": 55
    },
    {
     "cell_type": "code",
     "collapsed": false,
     "input": [
      "dview.pull(\"a\", block=True)"
     ],
     "language": "python",
     "metadata": {},
     "outputs": [
      {
       "output_type": "pyout",
       "prompt_number": 56,
       "text": [
        "[array([0, 1, 2, 3, 4]),\n",
        " array([0, 1, 2, 3, 4]),\n",
        " array([0, 1, 2, 3, 4]),\n",
        " array([0, 1, 2, 3, 4]),\n",
        " array([0, 1, 2, 3, 4]),\n",
        " array([0, 1, 2, 3, 4]),\n",
        " array([0, 1, 2, 3, 4]),\n",
        " array([0, 1, 2, 3, 4])]"
       ]
      }
     ],
     "prompt_number": 56
    },
    {
     "cell_type": "markdown",
     "metadata": {},
     "source": [
      "For the sake of convenience, pushing and pulling to the namespaces on the engines can be done through a dictionary like syntax"
     ]
    },
    {
     "cell_type": "code",
     "collapsed": false,
     "input": [
      "dview[\"a\"]"
     ],
     "language": "python",
     "metadata": {},
     "outputs": [
      {
       "output_type": "pyout",
       "prompt_number": 57,
       "text": [
        "[array([0, 1, 2, 3, 4]),\n",
        " array([0, 1, 2, 3, 4]),\n",
        " array([0, 1, 2, 3, 4]),\n",
        " array([0, 1, 2, 3, 4]),\n",
        " array([0, 1, 2, 3, 4]),\n",
        " array([0, 1, 2, 3, 4]),\n",
        " array([0, 1, 2, 3, 4]),\n",
        " array([0, 1, 2, 3, 4])]"
       ]
      }
     ],
     "prompt_number": 57
    },
    {
     "cell_type": "code",
     "collapsed": false,
     "input": [
      "dview[\"c\"] = \"See\""
     ],
     "language": "python",
     "metadata": {},
     "outputs": [],
     "prompt_number": 58
    },
    {
     "cell_type": "code",
     "collapsed": false,
     "input": [
      "dview.pull(\"c\", block=True)"
     ],
     "language": "python",
     "metadata": {},
     "outputs": [
      {
       "output_type": "pyout",
       "prompt_number": 59,
       "text": [
        "['See', 'See', 'See', 'See', 'See', 'See', 'See', 'See']"
       ]
      }
     ],
     "prompt_number": 59
    },
    {
     "cell_type": "markdown",
     "metadata": {},
     "source": [
      "Something which might be more useful is to push _different_ sections of data to various engines, just like when we applied the parallel function above.\n",
      "\n",
      "The direct view has the methods `.scatter()` and `.gather()`."
     ]
    },
    {
     "cell_type": "code",
     "collapsed": false,
     "input": [
      "dview.scatter('x', np.arange(95), block=True)"
     ],
     "language": "python",
     "metadata": {},
     "outputs": [],
     "prompt_number": 60
    },
    {
     "cell_type": "markdown",
     "metadata": {},
     "source": [
      "This will divide the array to four sections, and divide those out to different engines."
     ]
    },
    {
     "cell_type": "code",
     "collapsed": false,
     "input": [
      "%%px\n",
      "x"
     ],
     "language": "python",
     "metadata": {},
     "outputs": [
      {
       "output_type": "display_data",
       "text": [
        "\u001b[0;31mOut[0:2]: \u001b[0marray([ 0,  1,  2,  3,  4,  5,  6,  7,  8,  9, 10, 11])"
       ]
      },
      {
       "output_type": "display_data",
       "text": [
        "\u001b[0;31mOut[1:2]: \u001b[0marray([12, 13, 14, 15, 16, 17, 18, 19, 20, 21, 22, 23])"
       ]
      },
      {
       "output_type": "display_data",
       "text": [
        "\u001b[0;31mOut[2:2]: \u001b[0marray([24, 25, 26, 27, 28, 29, 30, 31, 32, 33, 34, 35])"
       ]
      },
      {
       "output_type": "display_data",
       "text": [
        "\u001b[0;31mOut[3:2]: \u001b[0marray([36, 37, 38, 39, 40, 41, 42, 43, 44, 45, 46, 47])"
       ]
      },
      {
       "output_type": "display_data",
       "text": [
        "\u001b[0;31mOut[4:2]: \u001b[0marray([48, 49, 50, 51, 52, 53, 54, 55, 56, 57, 58, 59])"
       ]
      },
      {
       "output_type": "display_data",
       "text": [
        "\u001b[0;31mOut[5:2]: \u001b[0marray([60, 61, 62, 63, 64, 65, 66, 67, 68, 69, 70, 71])"
       ]
      },
      {
       "output_type": "display_data",
       "text": [
        "\u001b[0;31mOut[6:2]: \u001b[0marray([72, 73, 74, 75, 76, 77, 78, 79, 80, 81, 82, 83])"
       ]
      },
      {
       "output_type": "display_data",
       "text": [
        "\u001b[0;31mOut[7:2]: \u001b[0marray([84, 85, 86, 87, 88, 89, 90, 91, 92, 93, 94])"
       ]
      }
     ],
     "prompt_number": 61
    },
    {
     "cell_type": "code",
     "collapsed": false,
     "input": [
      "def x_mean():\n",
      "    return x.mean()"
     ],
     "language": "python",
     "metadata": {},
     "outputs": [],
     "prompt_number": 62
    },
    {
     "cell_type": "code",
     "collapsed": false,
     "input": [
      "dview.apply_sync(x_mean)"
     ],
     "language": "python",
     "metadata": {},
     "outputs": [
      {
       "output_type": "pyout",
       "prompt_number": 63,
       "text": [
        "[5.5, 17.5, 29.5, 41.5, 53.5, 65.5, 77.5, 89.0]"
       ]
      }
     ],
     "prompt_number": 63
    },
    {
     "cell_type": "code",
     "collapsed": false,
     "input": [
      "dview.gather(\"x\", targets=1, block=True)"
     ],
     "language": "python",
     "metadata": {},
     "outputs": [
      {
       "output_type": "pyout",
       "prompt_number": 64,
       "text": [
        "array([12, 13, 14, 15, 16, 17, 18, 19, 20, 21, 22, 23])"
       ]
      }
     ],
     "prompt_number": 64
    },
    {
     "cell_type": "markdown",
     "metadata": {},
     "source": [
      "An alternative to importing modules in the definition of a function, there is a `@require` decoratir in `IPython.parallel` which will cause the required module to be imported before the code in the function is executed."
     ]
    },
    {
     "cell_type": "code",
     "collapsed": false,
     "input": [
      "from IPython.parallel import require"
     ],
     "language": "python",
     "metadata": {},
     "outputs": [],
     "prompt_number": 65
    },
    {
     "cell_type": "code",
     "collapsed": false,
     "input": [
      "@require(\"os\")\n",
      "def get_pid():\n",
      "    return os.getpid()"
     ],
     "language": "python",
     "metadata": {},
     "outputs": [],
     "prompt_number": 66
    },
    {
     "cell_type": "code",
     "collapsed": false,
     "input": [
      "dview.apply_sync(get_pid)"
     ],
     "language": "python",
     "metadata": {},
     "outputs": [
      {
       "output_type": "pyout",
       "prompt_number": 67,
       "text": [
        "[88707, 88708, 88706, 88709, 88710, 88711, 88712, 88713]"
       ]
      }
     ],
     "prompt_number": 67
    },
    {
     "cell_type": "markdown",
     "metadata": {},
     "source": [
      "## Assignment 7\n",
      "\n",
      "This is a very naive function for factoring integers"
     ]
    },
    {
     "cell_type": "code",
     "collapsed": false,
     "input": [
      "def factorize(n):\n",
      "    if n < 2:\n",
      "        return []\n",
      "    factors = []\n",
      "    p = 2\n",
      "\n",
      "    while True:\n",
      "        if n == 1:\n",
      "            return factors\n",
      "        r = n % p\n",
      "        if r == 0:\n",
      "            factors.append(p)\n",
      "            n = n / p\n",
      "        elif p * p >= n:\n",
      "            factors.append(n)\n",
      "            return factors\n",
      "        elif p > 2:\n",
      "            p += 2\n",
      "        else:\n",
      "            p += 1"
     ],
     "language": "python",
     "metadata": {},
     "outputs": []
    },
    {
     "cell_type": "markdown",
     "metadata": {},
     "source": [
      "The task is to factorize all numbers from 2 to 500000, and count the number of _unique_ factors. Then count how many times a factor count occurs. That is, make a histogram of factor counts.\n",
      "\n",
      "For the sake of clarity, this is what the task would be for the numbers up to 10:\n",
      "\n",
      "    number  factors         unique   num_unique_factors\n",
      "    2       [2]                      1\n",
      "    3       [3]                      1\n",
      "    4       [2, 2]          [2]      1\n",
      "    5       [5]                      1\n",
      "    6       [2, 3]                   2\n",
      "    7       [7]                      1\n",
      "    8       [2, 2, 2]       [2]      1\n",
      "    9       [3, 3]          [3]      1\n",
      "    10      [2, 5]                   2\n",
      "\n",
      "Which gives us\n",
      "\n",
      "    {1: 7, 2: 2}\n",
      "\n",
      "\n",
      "### 1.\n",
      "First implement this serially, that is, how you normally would. (It should take in the order of 15 seconds for 500000 numbers).\n",
      "\n",
      "\n",
      "### 2.\n",
      "Then make an implementation which uses `multiprocessing` for parallelization, (the parallelization strategy should be to factor some numbers on some processes, don't worry about the implementation of the factoring function).\n",
      "\n",
      "### 3.\n",
      "Implement the same thing using `IPython.parallel`. (Remember that you need to start the `ipcluster` before running a script using `IPython.parallel`, this is something I have a tendency to forget.)\n",
      "\n",
      "For this assignment, put _everything_ in one script. Call the script `num_factors.py`. Put it in the `scripts` directory of your repository.\n",
      "\n",
      "The script should take a character as an argument to determining how it will be run.\n",
      "So to run it serially, you run\n",
      "\n",
      "    $ num_factors.py s\n",
      "\n",
      "With `multiprocessing`\n",
      "\n",
      "    $ num_factors.py m\n",
      "\n",
      "and with `IPython.parallel`\n",
      "\n",
      "    $ num_factors.py i\n",
      "\n",
      "The script should print a dictionary like in the example above"
     ]
    },
    {
     "cell_type": "code",
     "collapsed": false,
     "input": [],
     "language": "python",
     "metadata": {},
     "outputs": []
    }
   ],
   "metadata": {}
  }
 ]
}