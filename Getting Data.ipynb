{
 "metadata": {
  "name": "Getting Data"
 },
 "nbformat": 3,
 "nbformat_minor": 0,
 "worksheets": [
  {
   "cells": [
    {
     "cell_type": "heading",
     "level": 2,
     "metadata": {},
     "source": [
      "XML"
     ]
    },
    {
     "cell_type": "markdown",
     "metadata": {},
     "source": [
      "Recommended libraries:\n",
      "\n",
      "- `lxml` (Performance)\n",
      "- `untangle` (Simplicity)"
     ]
    },
    {
     "cell_type": "markdown",
     "metadata": {},
     "source": [
      "Very common structured data format, supporting hierarchical, nested data with metadata."
     ]
    },
    {
     "cell_type": "markdown",
     "metadata": {},
     "source": [
      "Simple example from http://software-carpentry.org/3_0/xml.html\n",
      "\n",
      "    <?xml version=\"1.0\" encoding=\"utf-8\"?>\n",
      "    <planet name=\"Mercury\">\n",
      "      <period units=\"days\">87.97</period>\n",
      "    </planet>\n",
      "\n",
      "XML files are best viewed as trees"
     ]
    },
    {
     "cell_type": "heading",
     "level": 3,
     "metadata": {},
     "source": [
      "untangle"
     ]
    },
    {
     "cell_type": "markdown",
     "metadata": {},
     "source": [
      "Example data is an XML file with information about outages on escelators and elevators in the New York subway system"
     ]
    },
    {
     "cell_type": "code",
     "collapsed": false,
     "input": [
      "xml_file = \"nyct_ene.xml\""
     ],
     "language": "python",
     "metadata": {},
     "outputs": [],
     "prompt_number": 3
    },
    {
     "cell_type": "code",
     "collapsed": false,
     "input": [
      "import untangle"
     ],
     "language": "python",
     "metadata": {},
     "outputs": [],
     "prompt_number": 4
    },
    {
     "cell_type": "code",
     "collapsed": false,
     "input": [
      "doc = untangle.parse(xml_file)"
     ],
     "language": "python",
     "metadata": {},
     "outputs": [],
     "prompt_number": 5
    },
    {
     "cell_type": "code",
     "collapsed": false,
     "input": [
      "doc.get_elements()"
     ],
     "language": "python",
     "metadata": {},
     "outputs": [
      {
       "output_type": "pyout",
       "prompt_number": 6,
       "text": [
        "[Element(name = NYCOutages, attributes = {}, cdata = )]"
       ]
      }
     ],
     "prompt_number": 6
    },
    {
     "cell_type": "code",
     "collapsed": false,
     "input": [
      "outages = doc.NYCOutages.outage"
     ],
     "language": "python",
     "metadata": {},
     "outputs": [],
     "prompt_number": 7
    },
    {
     "cell_type": "code",
     "collapsed": false,
     "input": [
      "len(outages)"
     ],
     "language": "python",
     "metadata": {},
     "outputs": [
      {
       "output_type": "pyout",
       "prompt_number": 11,
       "text": [
        "38"
       ]
      }
     ],
     "prompt_number": 11
    },
    {
     "cell_type": "code",
     "collapsed": false,
     "input": [
      "outage = outages[5]"
     ],
     "language": "python",
     "metadata": {},
     "outputs": [],
     "prompt_number": 8
    },
    {
     "cell_type": "code",
     "collapsed": false,
     "input": [
      "outages[30].get_elements()"
     ],
     "language": "python",
     "metadata": {},
     "outputs": [
      {
       "output_type": "pyout",
       "prompt_number": 12,
       "text": [
        "[Element(name = station, attributes = {}, cdata = PARSONS BLVD STATION),\n",
        " Element(name = borough, attributes = {}, cdata = QNS),\n",
        " Element(name = trainno, attributes = {}, cdata = F),\n",
        " Element(name = equipment, attributes = {}, cdata = ES445),\n",
        " Element(name = equipmenttype, attributes = {}, cdata = ES),\n",
        " Element(name = serving, attributes = {}, cdata = CENTER ISLAND LOWER PLATFORM TO MEZZANINE),\n",
        " Element(name = ADA, attributes = {}, cdata = Y),\n",
        " Element(name = outagedate, attributes = {}, cdata = 12/23/2012 11:35:00 AM),\n",
        " Element(name = estimatedreturntoservice, attributes = {}, cdata = 12/28/2012 12:00:00 AM),\n",
        " Element(name = reason, attributes = {}, cdata = REPAIR),\n",
        " Element(name = isupcomingoutage, attributes = {}, cdata = N),\n",
        " Element(name = ismaintenanceoutage, attributes = {}, cdata = N)]"
       ]
      }
     ],
     "prompt_number": 12
    },
    {
     "cell_type": "code",
     "collapsed": false,
     "input": [
      "outage.get_elements()"
     ],
     "language": "python",
     "metadata": {},
     "outputs": [
      {
       "output_type": "pyout",
       "prompt_number": 9,
       "text": [
        "[Element(name = station, attributes = {}, cdata = 181 ST STATION),\n",
        " Element(name = borough, attributes = {}, cdata = MN),\n",
        " Element(name = trainno, attributes = {}, cdata = 1),\n",
        " Element(name = equipment, attributes = {}, cdata = EL110),\n",
        " Element(name = equipmenttype, attributes = {}, cdata = EL),\n",
        " Element(name = serving, attributes = {}, cdata = LOWER MEZZANINE TO UPPER MEZZANINE),\n",
        " Element(name = ADA, attributes = {}, cdata = N),\n",
        " Element(name = outagedate, attributes = {}, cdata = 12/27/2012  8:07:00 AM),\n",
        " Element(name = estimatedreturntoservice, attributes = {}, cdata = 12/29/2012 12:00:00 AM),\n",
        " Element(name = reason, attributes = {}, cdata = REPAIR),\n",
        " Element(name = isupcomingoutage, attributes = {}, cdata = N),\n",
        " Element(name = ismaintenanceoutage, attributes = {}, cdata = N)]"
       ]
      }
     ],
     "prompt_number": 9
    },
    {
     "cell_type": "code",
     "collapsed": false,
     "input": [
      "outage.estimatedreturntoservice.cdata"
     ],
     "language": "python",
     "metadata": {},
     "outputs": [
      {
       "output_type": "pyout",
       "prompt_number": 10,
       "text": [
        "u'12/29/2012 12:00:00 AM'"
       ]
      }
     ],
     "prompt_number": 10
    },
    {
     "cell_type": "markdown",
     "metadata": {},
     "source": [
      "Gives the information right away, rather than searching "
     ]
    },
    {
     "cell_type": "markdown",
     "metadata": {},
     "source": [
      "##CSV"
     ]
    },
    {
     "cell_type": "markdown",
     "metadata": {},
     "source": [
      "Builtin module `csv`\n",
      "\n",
      "Primary documentation: http://docs.python.org/2.7/library/csv.html"
     ]
    },
    {
     "cell_type": "markdown",
     "metadata": {},
     "source": [
      "Means a file where data just have some sort of seperator"
     ]
    },
    {
     "cell_type": "markdown",
     "metadata": {},
     "source": [
      "Example, small sample of http://a841-dotweb01.nyc.gov/datafeeds/ParkingReg/signs.CSV (88 MB)"
     ]
    },
    {
     "cell_type": "code",
     "collapsed": false,
     "input": [
      "%%bash\n",
      "head thousand_signs.csv"
     ],
     "language": "python",
     "metadata": {},
     "outputs": []
    },
    {
     "cell_type": "code",
     "collapsed": false,
     "input": [
      "# Simple reading\n",
      "\n",
      "f = open(\"thousand_signs.csv\", \"r\")\n",
      "for _ in range(3):\n",
      "    print(repr(f.readline()))"
     ],
     "language": "python",
     "metadata": {},
     "outputs": []
    },
    {
     "cell_type": "code",
     "collapsed": false,
     "input": [
      "import csv"
     ],
     "language": "python",
     "metadata": {},
     "outputs": []
    },
    {
     "cell_type": "code",
     "collapsed": false,
     "input": [
      "# Using a CSV reader\n",
      "\n",
      "f.seek(0)\n",
      "\n",
      "reader = csv.reader(f)\n",
      "reader"
     ],
     "language": "python",
     "metadata": {},
     "outputs": []
    },
    {
     "cell_type": "code",
     "collapsed": false,
     "input": [
      "for _ in range(3):\n",
      "    print(repr(reader.next()))"
     ],
     "language": "python",
     "metadata": {},
     "outputs": []
    },
    {
     "cell_type": "code",
     "collapsed": false,
     "input": [
      "f.close()"
     ],
     "language": "python",
     "metadata": {},
     "outputs": []
    },
    {
     "cell_type": "markdown",
     "metadata": {},
     "source": [
      "Rows are split in to lists based on the seperator on the fly"
     ]
    },
    {
     "cell_type": "markdown",
     "metadata": {},
     "source": [
      "### Dialects"
     ]
    },
    {
     "cell_type": "markdown",
     "metadata": {},
     "source": [
      "There's no clear standard for the which characters are used for delimnation of columns and rows.\n",
      "\n",
      "The specific setting of formatting is called a **dialect**\n",
      "\n",
      "The default in `csv` is to use `,` for columns and `\\r\\n` for rows."
     ]
    },
    {
     "cell_type": "code",
     "collapsed": false,
     "input": [
      "csv.list_dialects()"
     ],
     "language": "python",
     "metadata": {},
     "outputs": []
    },
    {
     "cell_type": "markdown",
     "metadata": {},
     "source": [
      "`excel-tab` uses `\\t` for columns delimination"
     ]
    },
    {
     "cell_type": "markdown",
     "metadata": {},
     "source": [
      "If we want to seperate fields which internally uses `,`, we could for example use `;`\n",
      "as a deliminator."
     ]
    },
    {
     "cell_type": "code",
     "collapsed": false,
     "input": [
      "%%bash\n",
      "head example.csv"
     ],
     "language": "python",
     "metadata": {},
     "outputs": []
    },
    {
     "cell_type": "code",
     "collapsed": false,
     "input": [
      "csv.register_dialect(\"semicolon\", delimiter=\";\", skipinitialspace=True)\n",
      "csv.list_dialects()"
     ],
     "language": "python",
     "metadata": {},
     "outputs": []
    },
    {
     "cell_type": "code",
     "collapsed": false,
     "input": [
      "f = open(\"example.csv\", \"r\")\n",
      "\n",
      "reader = csv.reader(f, \"semicolon\")\n",
      "\n",
      "for line in reader:\n",
      "    print(line)\n",
      "\n",
      "f.close()"
     ],
     "language": "python",
     "metadata": {},
     "outputs": []
    },
    {
     "cell_type": "markdown",
     "metadata": {},
     "source": [
      "### Automatically detecting dialect"
     ]
    },
    {
     "cell_type": "code",
     "collapsed": false,
     "input": [
      "sniffer = csv.Sniffer()"
     ],
     "language": "python",
     "metadata": {},
     "outputs": []
    },
    {
     "cell_type": "markdown",
     "metadata": {},
     "source": [
      "`csv.Sniffer` analyzes text for patterns, to find the dialect"
     ]
    },
    {
     "cell_type": "code",
     "collapsed": false,
     "input": [
      "f = open(\"example.csv\", \"r\")"
     ],
     "language": "python",
     "metadata": {},
     "outputs": []
    },
    {
     "cell_type": "code",
     "collapsed": false,
     "input": [
      "sample = f.read()\n",
      "\n",
      "dialect = sniffer.sniff(sample)\n",
      "\n",
      "f.seek(0)\n",
      "reader = csv.reader(f, dialect)\n",
      "for line in reader:\n",
      "    print(line)\n",
      "\n",
      "f.seek(0)"
     ],
     "language": "python",
     "metadata": {},
     "outputs": []
    },
    {
     "cell_type": "markdown",
     "metadata": {},
     "source": [
      "`csv` can be very large, reading all of it to find the dialect can be time\n",
      "consuming and not necessary"
     ]
    },
    {
     "cell_type": "code",
     "collapsed": false,
     "input": [
      "sample = f.read(7)  # Read 7 bytes\n",
      "\n",
      "print(repr(sample))\n",
      "print(\"\")\n",
      "\n",
      "f.seek(0)\n",
      "\n",
      "dialect = sniffer.sniff(sample)\n",
      "\n",
      "reader = csv.reader(f, dialect)\n",
      "for line in reader:\n",
      "    print(line)\n",
      "\n",
      "f.seek(0)"
     ],
     "language": "python",
     "metadata": {},
     "outputs": []
    },
    {
     "cell_type": "markdown",
     "metadata": {},
     "source": [
      "Undersampling can of course yield erronous dialects"
     ]
    },
    {
     "cell_type": "code",
     "collapsed": false,
     "input": [
      "sample = f.read(80)\n",
      "\n",
      "print(repr(sample))\n",
      "print(\"\")\n",
      "\n",
      "f.seek(0)\n",
      "\n",
      "dialect = sniffer.sniff(sample)\n",
      "\n",
      "reader = csv.reader(f, dialect)\n",
      "for line in reader:\n",
      "    print(line)\n",
      "\n",
      "f.seek(0)"
     ],
     "language": "python",
     "metadata": {},
     "outputs": []
    },
    {
     "cell_type": "markdown",
     "metadata": {},
     "source": [
      "For larger files, around 1024 bytes is quite good, you want to have a few lines in the samples"
     ]
    },
    {
     "cell_type": "code",
     "collapsed": false,
     "input": [
      "dialect.delimiter, dialect.lineterminator, dialect.skipinitialspace"
     ],
     "language": "python",
     "metadata": {},
     "outputs": []
    },
    {
     "cell_type": "code",
     "collapsed": false,
     "input": [
      "sniffer.has_header(sample)"
     ],
     "language": "python",
     "metadata": {},
     "outputs": []
    },
    {
     "cell_type": "code",
     "collapsed": false,
     "input": [
      "f.close()"
     ],
     "language": "python",
     "metadata": {},
     "outputs": []
    },
    {
     "cell_type": "code",
     "collapsed": false,
     "input": [
      "f = open(\"thousand_signs.csv\", \"r\")\n",
      "sample = f.read(100)\n",
      "f.close\n",
      "\n",
      "sniffer.has_header(sample)"
     ],
     "language": "python",
     "metadata": {},
     "outputs": []
    },
    {
     "cell_type": "markdown",
     "metadata": {},
     "source": [
      "## JSON"
     ]
    },
    {
     "cell_type": "markdown",
     "metadata": {},
     "source": [
      "Builtin module `json`\n",
      "\n",
      "JavaScript Object Notation, human readable serialization of data.\n",
      "\n",
      "Mostly known from sending data between server and client in web applications\n",
      "\n",
      "In Python nomenclature, one can say it consists of lists and dictionaries,\n",
      "which can be populated by strings, integers and floats"
     ]
    },
    {
     "cell_type": "code",
     "collapsed": false,
     "input": [
      "%%bash\n",
      "# Example from wikipeda page on JSON\n",
      "cat example.json"
     ],
     "language": "python",
     "metadata": {},
     "outputs": [
      {
       "output_type": "stream",
       "stream": "stdout",
       "text": [
        "{\n",
        "    \"firstName\": \"John\",\n",
        "    \"lastName\": \"Smith\",\n",
        "    \"age\": 25,\n",
        "    \"address\": {\n",
        "        \"streetAddress\": \"21 2nd Street\",\n",
        "        \"city\": \"New York\",\n",
        "        \"state\": \"NY\",\n",
        "        \"postalCode\": \"10021\"\n",
        "    },\n",
        "    \"phoneNumber\": [\n",
        "        {\n",
        "            \"type\": \"home\",\n",
        "            \"number\": \"212 555-1234\"\n",
        "        },\n",
        "        {\n",
        "            \"type\": \"fax\",\n",
        "            \"number\": \"646 555-4567\"\n",
        "        }\n",
        "    ]\n",
        "}"
       ]
      }
     ],
     "prompt_number": 13
    },
    {
     "cell_type": "code",
     "collapsed": false,
     "input": [
      "import json"
     ],
     "language": "python",
     "metadata": {},
     "outputs": []
    },
    {
     "cell_type": "code",
     "collapsed": false,
     "input": [
      "f = open(\"example.json\", \"r\")\n",
      "\n",
      "json_data = json.load(f)\n",
      "\n",
      "f.close()\n",
      "\n",
      "json_data"
     ],
     "language": "python",
     "metadata": {},
     "outputs": []
    },
    {
     "cell_type": "markdown",
     "metadata": {},
     "source": [
      "## YAML"
     ]
    },
    {
     "cell_type": "markdown",
     "metadata": {},
     "source": [
      "Package `pyyaml`, install by `pip install pyyaml`"
     ]
    },
    {
     "cell_type": "heading",
     "level": 2,
     "metadata": {},
     "source": [
      "Databases"
     ]
    },
    {
     "cell_type": "markdown",
     "metadata": {},
     "source": [
      "- `SQLAlchemy`\n",
      "\n",
      "Drivers for popular none-SQL databases:\n",
      "\n",
      "- pycouchdb\n",
      "- pymongo"
     ]
    },
    {
     "cell_type": "heading",
     "level": 2,
     "metadata": {},
     "source": [
      "Web services "
     ]
    },
    {
     "cell_type": "markdown",
     "metadata": {},
     "source": [
      "A common way to "
     ]
    },
    {
     "cell_type": "code",
     "collapsed": false,
     "input": [
      "import requests"
     ],
     "language": "python",
     "metadata": {},
     "outputs": [],
     "prompt_number": 14
    },
    {
     "cell_type": "code",
     "collapsed": false,
     "input": [
      "r = requests.get(\"http://ws.spotify.com/search/1/track.json?q=kaizers+orchestra\")"
     ],
     "language": "python",
     "metadata": {},
     "outputs": [],
     "prompt_number": 15
    },
    {
     "cell_type": "code",
     "collapsed": false,
     "input": [
      "r.status_code"
     ],
     "language": "python",
     "metadata": {},
     "outputs": [
      {
       "output_type": "pyout",
       "prompt_number": 16,
       "text": [
        "200"
       ]
      }
     ],
     "prompt_number": 16
    },
    {
     "cell_type": "code",
     "collapsed": false,
     "input": [
      "r.text[:2000]"
     ],
     "language": "python",
     "metadata": {},
     "outputs": []
    },
    {
     "cell_type": "code",
     "collapsed": false,
     "input": [
      "json_data = r.json()"
     ],
     "language": "python",
     "metadata": {},
     "outputs": []
    },
    {
     "cell_type": "code",
     "collapsed": false,
     "input": [
      "len(json_data[\"tracks\"])"
     ],
     "language": "python",
     "metadata": {},
     "outputs": []
    },
    {
     "cell_type": "code",
     "collapsed": false,
     "input": [
      "json_data[\"tracks\"][1]"
     ],
     "language": "python",
     "metadata": {},
     "outputs": []
    },
    {
     "cell_type": "code",
     "collapsed": false,
     "input": [
      "r.headers"
     ],
     "language": "python",
     "metadata": {},
     "outputs": []
    },
    {
     "cell_type": "code",
     "collapsed": false,
     "input": [
      "logo = requests.get(\"http://www.scilifelab.se/images/logo_header.png\")"
     ],
     "language": "python",
     "metadata": {},
     "outputs": []
    },
    {
     "cell_type": "code",
     "collapsed": false,
     "input": [
      "logo.headers"
     ],
     "language": "python",
     "metadata": {},
     "outputs": []
    },
    {
     "cell_type": "code",
     "collapsed": false,
     "input": [
      "logo.content[:100]"
     ],
     "language": "python",
     "metadata": {},
     "outputs": []
    },
    {
     "cell_type": "code",
     "collapsed": false,
     "input": [
      "logo."
     ],
     "language": "python",
     "metadata": {},
     "outputs": []
    },
    {
     "cell_type": "code",
     "collapsed": false,
     "input": [
      "from IPython.core.display import Image"
     ],
     "language": "python",
     "metadata": {},
     "outputs": []
    },
    {
     "cell_type": "code",
     "collapsed": false,
     "input": [
      "Image(logo.content)"
     ],
     "language": "python",
     "metadata": {},
     "outputs": []
    },
    {
     "cell_type": "markdown",
     "metadata": {},
     "source": [
      "## Task\n",
      "\n",
      "Make a module and script which fetches the XML formatted for the status of escelators in\n",
      "the NYC subway system at http://www.grandcentral.org/developers/data/nyct/nyct_ene.xml,\n",
      "calculate the fraction of those which have the reason \"Repair\", and prints this fraction.\n",
      "\n",
      "(Information about the data can be found at http://www.grandcentral.org/developers/download.html)\n",
      "\n",
      "The script should use the module, and should be installable by `python setup.py install`\n",
      "\n",
      "    [lastname]/\n",
      "        [lastname]/\n",
      "            __init__.py\n",
      "        scripts/\n",
      "            getting_data.py\n",
      "        README.md\n",
      "        setup.py\n",
      "\n",
      "In `setup.py`, add the scripts to the call of the `setup` function.\n",
      "For details, see http://peak.telecommunity.com/DevCenter/setuptools#basic-use\n",
      "\n",
      "This means that after `python setup.py install` has been run, it should be possible to simple type\n",
      "    \n",
      "    $ getting_data.py\n",
      "\n",
      "in the terminal and get the desired output."
     ]
    },
    {
     "cell_type": "code",
     "collapsed": false,
     "input": [
      "\n"
     ],
     "language": "python",
     "metadata": {},
     "outputs": []
    }
   ],
   "metadata": {}
  }
 ]
}