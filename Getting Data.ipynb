{
 "metadata": {
  "name": "Getting Data"
 },
 "nbformat": 3,
 "nbformat_minor": 0,
 "worksheets": [
  {
   "cells": [
    {
     "cell_type": "heading",
     "level": 2,
     "metadata": {},
     "source": [
      "XML"
     ]
    },
    {
     "cell_type": "markdown",
     "metadata": {},
     "source": [
      "Recommended libraries:\n",
      "\n",
      "- `lxml` (Performance)\n",
      "- `untangle` (Simplicity)"
     ]
    },
    {
     "cell_type": "markdown",
     "metadata": {},
     "source": [
      "Very common structured data format, supporting hierarchical, nested data with metadata."
     ]
    },
    {
     "cell_type": "markdown",
     "metadata": {},
     "source": [
      "Simple example from http://software-carpentry.org/3_0/xml.html\n",
      "\n",
      "    <?xml version=\"1.0\" encoding=\"utf-8\"?>\n",
      "    <planet name=\"Mercury\">\n",
      "      <period units=\"days\">87.97</period>\n",
      "    </planet>\n",
      "\n",
      "XML files are best viewed as trees"
     ]
    },
    {
     "cell_type": "heading",
     "level": 3,
     "metadata": {},
     "source": [
      "lxml"
     ]
    },
    {
     "cell_type": "code",
     "collapsed": false,
     "input": [
      "from lxml import objectify"
     ],
     "language": "python",
     "metadata": {},
     "outputs": [],
     "prompt_number": 2
    },
    {
     "cell_type": "code",
     "collapsed": false,
     "input": [
      "xml_file = \"nyct_ene.xml\""
     ],
     "language": "python",
     "metadata": {},
     "outputs": [],
     "prompt_number": 3
    },
    {
     "cell_type": "code",
     "collapsed": false,
     "input": [
      "parsed = objectify.parse(xml_file)"
     ],
     "language": "python",
     "metadata": {},
     "outputs": [],
     "prompt_number": 4
    },
    {
     "cell_type": "code",
     "collapsed": false,
     "input": [
      "root = parsed.getroot()"
     ],
     "language": "python",
     "metadata": {},
     "outputs": [],
     "prompt_number": 13
    },
    {
     "cell_type": "code",
     "collapsed": false,
     "input": [
      "root.getchildren()"
     ],
     "language": "python",
     "metadata": {},
     "outputs": [
      {
       "output_type": "pyout",
       "prompt_number": 19,
       "text": [
        "[0,\n",
        " u'',\n",
        " <Element outage at 0x10fab8be0>,\n",
        " <Element outage at 0x10fab8d70>,\n",
        " <Element outage at 0x10fab8f00>,\n",
        " <Element outage at 0x10fab8e60>,\n",
        " <Element outage at 0x10fab8cd0>,\n",
        " <Element outage at 0x10fab8eb0>,\n",
        " <Element outage at 0x10fab8c30>,\n",
        " <Element outage at 0x10fab8c80>,\n",
        " <Element outage at 0x10fab8dc0>,\n",
        " <Element outage at 0x10fab8b40>,\n",
        " <Element outage at 0x10fab8d20>,\n",
        " <Element outage at 0x10fab8e10>,\n",
        " <Element outage at 0x10fab8f50>,\n",
        " <Element outage at 0x10fab8fa0>,\n",
        " <Element outage at 0x10fac5050>,\n",
        " <Element outage at 0x10fac50a0>,\n",
        " <Element outage at 0x10fac50f0>,\n",
        " <Element outage at 0x10fac5140>,\n",
        " <Element outage at 0x10fac5190>,\n",
        " <Element outage at 0x10fac51e0>,\n",
        " <Element outage at 0x10fac5230>,\n",
        " <Element outage at 0x10fac5280>,\n",
        " <Element outage at 0x10fac52d0>,\n",
        " <Element outage at 0x10fac5320>,\n",
        " <Element outage at 0x10fac5370>,\n",
        " <Element outage at 0x10fac53c0>,\n",
        " <Element outage at 0x10fac5410>,\n",
        " <Element outage at 0x10fac5460>,\n",
        " <Element outage at 0x10fac54b0>,\n",
        " <Element outage at 0x10fac5500>,\n",
        " <Element outage at 0x10fac5550>,\n",
        " <Element outage at 0x10fac55a0>,\n",
        " <Element outage at 0x10fac55f0>,\n",
        " <Element outage at 0x10fac5640>,\n",
        " <Element outage at 0x10fac5690>,\n",
        " <Element outage at 0x10fac56e0>,\n",
        " <Element outage at 0x10fac5730>,\n",
        " <Element outage at 0x10fac5780>]"
       ]
      }
     ],
     "prompt_number": 19
    },
    {
     "cell_type": "code",
     "collapsed": false,
     "input": [
      "root.findall(\"outage\")"
     ],
     "language": "python",
     "metadata": {},
     "outputs": [
      {
       "output_type": "pyout",
       "prompt_number": 22,
       "text": [
        "[<Element outage at 0x10fab8be0>,\n",
        " <Element outage at 0x10fab8d70>,\n",
        " <Element outage at 0x10fab8f00>,\n",
        " <Element outage at 0x10fab8e60>,\n",
        " <Element outage at 0x10fab8cd0>,\n",
        " <Element outage at 0x10fab8eb0>,\n",
        " <Element outage at 0x10fab8c30>,\n",
        " <Element outage at 0x10fab8c80>,\n",
        " <Element outage at 0x10fab8dc0>,\n",
        " <Element outage at 0x10fab8b40>,\n",
        " <Element outage at 0x10fab8d20>,\n",
        " <Element outage at 0x10fab8e10>,\n",
        " <Element outage at 0x10fab8f50>,\n",
        " <Element outage at 0x10fab8fa0>,\n",
        " <Element outage at 0x10fac5050>,\n",
        " <Element outage at 0x10fac50a0>,\n",
        " <Element outage at 0x10fac50f0>,\n",
        " <Element outage at 0x10fac5140>,\n",
        " <Element outage at 0x10fac5190>,\n",
        " <Element outage at 0x10fac51e0>,\n",
        " <Element outage at 0x10fac5230>,\n",
        " <Element outage at 0x10fac5280>,\n",
        " <Element outage at 0x10fac52d0>,\n",
        " <Element outage at 0x10fac5320>,\n",
        " <Element outage at 0x10fac5370>,\n",
        " <Element outage at 0x10fac53c0>,\n",
        " <Element outage at 0x10fac5410>,\n",
        " <Element outage at 0x10fac5460>,\n",
        " <Element outage at 0x10fac54b0>,\n",
        " <Element outage at 0x10fac5500>,\n",
        " <Element outage at 0x10fac5550>,\n",
        " <Element outage at 0x10fac55a0>,\n",
        " <Element outage at 0x10fac55f0>,\n",
        " <Element outage at 0x10fac5640>,\n",
        " <Element outage at 0x10fac5690>,\n",
        " <Element outage at 0x10fac56e0>,\n",
        " <Element outage at 0x10fac5730>,\n",
        " <Element outage at 0x10fac5780>]"
       ]
      }
     ],
     "prompt_number": 22
    },
    {
     "cell_type": "code",
     "collapsed": false,
     "input": [
      "outage = root.find(\"outage\")"
     ],
     "language": "python",
     "metadata": {},
     "outputs": [],
     "prompt_number": 23
    },
    {
     "cell_type": "markdown",
     "metadata": {},
     "source": [
      "Main methods\n",
      "\n",
      "- `find`\n",
      "  - Like `findall` but only returns first occurance\n",
      "- `findall`\n",
      "  - Returns a list of all elements with the given type\n",
      "- `findtext`\n",
      "  - Returns the text inside an element of a given type"
     ]
    },
    {
     "cell_type": "code",
     "collapsed": false,
     "input": [
      "outage.__dict__"
     ],
     "language": "python",
     "metadata": {},
     "outputs": [
      {
       "output_type": "pyout",
       "prompt_number": 55,
       "text": [
        "{'ADA': 'Y',\n",
        " 'borough': 'BX',\n",
        " 'equipment': 'EL129',\n",
        " 'equipmenttype': 'EL',\n",
        " 'estimatedreturntoservice': '12/30/2012  5:00:00 AM',\n",
        " 'ismaintenanceoutage': 'N',\n",
        " 'isupcomingoutage': 'Y',\n",
        " 'outagedate': '12/29/2012 11:30:00 PM',\n",
        " 'reason': 'MAINTENANCE',\n",
        " 'serving': 'STREET TO UPTOWN PLATFORM',\n",
        " 'station': '149TH ST - 3RD AVENUE STATION',\n",
        " 'trainno': '2/5'}"
       ]
      }
     ],
     "prompt_number": 55
    },
    {
     "cell_type": "code",
     "collapsed": false,
     "input": [
      "outage.findtext(\"trainno\")"
     ],
     "language": "python",
     "metadata": {},
     "outputs": [
      {
       "output_type": "pyout",
       "prompt_number": 48,
       "text": [
        "'2/5'"
       ]
      }
     ],
     "prompt_number": 48
    },
    {
     "cell_type": "code",
     "collapsed": false,
     "input": [
      "outage.attrib"
     ],
     "language": "python",
     "metadata": {},
     "outputs": [
      {
       "output_type": "pyout",
       "prompt_number": 57,
       "text": [
        "{}"
       ]
      }
     ],
     "prompt_number": 57
    },
    {
     "cell_type": "code",
     "collapsed": false,
     "input": [
      "root.findtext(\"outage\")"
     ],
     "language": "python",
     "metadata": {},
     "outputs": [
      {
       "output_type": "pyout",
       "prompt_number": 53,
       "text": [
        "u''"
       ]
      }
     ],
     "prompt_number": 53
    },
    {
     "cell_type": "heading",
     "level": 3,
     "metadata": {},
     "source": [
      "untangle"
     ]
    },
    {
     "cell_type": "code",
     "collapsed": false,
     "input": [
      "import untangle"
     ],
     "language": "python",
     "metadata": {},
     "outputs": [],
     "prompt_number": 58
    },
    {
     "cell_type": "code",
     "collapsed": false,
     "input": [
      "doc = untangle.parse(xml_file)"
     ],
     "language": "python",
     "metadata": {},
     "outputs": [],
     "prompt_number": 59
    },
    {
     "cell_type": "code",
     "collapsed": false,
     "input": [
      "doc.get_elements()"
     ],
     "language": "python",
     "metadata": {},
     "outputs": [
      {
       "output_type": "pyout",
       "prompt_number": 62,
       "text": [
        "[Element(name = NYCOutages, attributes = {}, cdata = )]"
       ]
      }
     ],
     "prompt_number": 62
    },
    {
     "cell_type": "code",
     "collapsed": false,
     "input": [
      "outages = doc.NYCOutages.outage"
     ],
     "language": "python",
     "metadata": {},
     "outputs": [],
     "prompt_number": 73
    },
    {
     "cell_type": "code",
     "collapsed": false,
     "input": [
      "outage = outages[5]"
     ],
     "language": "python",
     "metadata": {},
     "outputs": [],
     "prompt_number": 75
    },
    {
     "cell_type": "code",
     "collapsed": false,
     "input": [
      "outage.get_elements()"
     ],
     "language": "python",
     "metadata": {},
     "outputs": [
      {
       "output_type": "pyout",
       "prompt_number": 80,
       "text": [
        "[Element(name = station, attributes = {}, cdata = 181 ST STATION),\n",
        " Element(name = borough, attributes = {}, cdata = MN),\n",
        " Element(name = trainno, attributes = {}, cdata = 1),\n",
        " Element(name = equipment, attributes = {}, cdata = EL110),\n",
        " Element(name = equipmenttype, attributes = {}, cdata = EL),\n",
        " Element(name = serving, attributes = {}, cdata = LOWER MEZZANINE TO UPPER MEZZANINE),\n",
        " Element(name = ADA, attributes = {}, cdata = N),\n",
        " Element(name = outagedate, attributes = {}, cdata = 12/27/2012  8:07:00 AM),\n",
        " Element(name = estimatedreturntoservice, attributes = {}, cdata = 12/29/2012 12:00:00 AM),\n",
        " Element(name = reason, attributes = {}, cdata = REPAIR),\n",
        " Element(name = isupcomingoutage, attributes = {}, cdata = N),\n",
        " Element(name = ismaintenanceoutage, attributes = {}, cdata = N)]"
       ]
      }
     ],
     "prompt_number": 80
    },
    {
     "cell_type": "code",
     "collapsed": false,
     "input": [
      "outage.estimatedreturntoservice.cdata"
     ],
     "language": "python",
     "metadata": {},
     "outputs": [
      {
       "output_type": "pyout",
       "prompt_number": 92,
       "text": [
        "u'12/29/2012 12:00:00 AM'"
       ]
      }
     ],
     "prompt_number": 92
    },
    {
     "cell_type": "markdown",
     "metadata": {},
     "source": [
      "Gives the information right away, rather than searching "
     ]
    },
    {
     "cell_type": "markdown",
     "metadata": {},
     "source": [
      "##CSV"
     ]
    },
    {
     "cell_type": "markdown",
     "metadata": {},
     "source": [
      "Builtin module `csv`\n",
      "\n",
      "Primary documentation: http://docs.python.org/2.7/library/csv.html"
     ]
    },
    {
     "cell_type": "markdown",
     "metadata": {},
     "source": [
      "Means a file where data just have some sort of seperator"
     ]
    },
    {
     "cell_type": "markdown",
     "metadata": {},
     "source": [
      "Example, small sample of http://a841-dotweb01.nyc.gov/datafeeds/ParkingReg/signs.CSV (88 MB)"
     ]
    },
    {
     "cell_type": "code",
     "collapsed": false,
     "input": [
      "%%bash\n",
      "head thousand_signs.csv"
     ],
     "language": "python",
     "metadata": {},
     "outputs": [
      {
       "output_type": "stream",
       "stream": "stdout",
       "text": [
        "B,P-004958,1,0000 ,   ,Curb Line\r\n",
        "B,P-004958,2,0009 ,   ,Property Line\r\n",
        "B,P-004958,3,0030 ,   ,NIGHT REGULATION (MOON & STARS SYMBOLS) NO PARKING (SANITATION BROOM SYMBOL) MIDNIGHT TO 3AM TUES & FRI <--> (SUPERSEDED BY SP-841C)                                    \r\n",
        "B,P-004958,4,0030 ,   ,1 HOUR PARKING 9AM-7PM EXCEPT SUNDAY                                                                                                                                    \r\n",
        "B,P-004958,5,0208 ,   ,NIGHT REGULATION (MOON & STARS SYMBOLS) NO PARKING (SANITATION BROOM SYMBOL) MIDNIGHT TO 3AM TUES & FRI <--> (SUPERSEDED BY SP-841C)                                    \r\n",
        "B,P-004958,6,0208 ,   ,1 HOUR PARKING 9AM-7PM EXCEPT SUNDAY                                                                                                                                    \r\n",
        "B,P-004958,7,0218 ,   ,Property Line\r\n",
        "B,P-004958,8,0232 ,   ,Curb Line\r\n",
        "B,P-009318,1,0000 ,   ,Curb Line\r\n",
        "B,P-009318,2,0014 ,   ,Building Line\r\n"
       ]
      }
     ],
     "prompt_number": 116
    },
    {
     "cell_type": "code",
     "collapsed": false,
     "input": [
      "# Simple reading\n",
      "\n",
      "f = open(\"thousand_signs.csv\", \"r\")\n",
      "for _ in range(3):\n",
      "    print(repr(f.readline()))"
     ],
     "language": "python",
     "metadata": {},
     "outputs": [
      {
       "output_type": "stream",
       "stream": "stdout",
       "text": [
        "'B,P-004958,1,0000 ,   ,Curb Line\\r\\n'\n",
        "'B,P-004958,2,0009 ,   ,Property Line\\r\\n'\n",
        "'B,P-004958,3,0030 ,   ,NIGHT REGULATION (MOON & STARS SYMBOLS) NO PARKING (SANITATION BROOM SYMBOL) MIDNIGHT TO 3AM TUES & FRI <--> (SUPERSEDED BY SP-841C)                                    \\r\\n'\n"
       ]
      }
     ],
     "prompt_number": 125
    },
    {
     "cell_type": "code",
     "collapsed": false,
     "input": [
      "import csv"
     ],
     "language": "python",
     "metadata": {},
     "outputs": [],
     "prompt_number": 117
    },
    {
     "cell_type": "code",
     "collapsed": false,
     "input": [
      "# Using a CSV reader\n",
      "\n",
      "f.seek(0)\n",
      "\n",
      "reader = csv.reader(f)\n",
      "reader"
     ],
     "language": "python",
     "metadata": {},
     "outputs": [
      {
       "output_type": "pyout",
       "prompt_number": 132,
       "text": [
        "<_csv.reader at 0x10facec20>"
       ]
      }
     ],
     "prompt_number": 132
    },
    {
     "cell_type": "code",
     "collapsed": false,
     "input": [
      "for _ in range(3):\n",
      "    print(repr(reader.next()))"
     ],
     "language": "python",
     "metadata": {},
     "outputs": [
      {
       "output_type": "stream",
       "stream": "stdout",
       "text": [
        "['B', 'P-004958', '1', '0000 ', '   ', 'Curb Line']\n",
        "['B', 'P-004958', '2', '0009 ', '   ', 'Property Line']\n",
        "['B', 'P-004958', '3', '0030 ', '   ', 'NIGHT REGULATION (MOON & STARS SYMBOLS) NO PARKING (SANITATION BROOM SYMBOL) MIDNIGHT TO 3AM TUES & FRI <--> (SUPERSEDED BY SP-841C)                                    ']\n"
       ]
      }
     ],
     "prompt_number": 133
    },
    {
     "cell_type": "code",
     "collapsed": false,
     "input": [
      "f.close()"
     ],
     "language": "python",
     "metadata": {},
     "outputs": [],
     "prompt_number": 156
    },
    {
     "cell_type": "markdown",
     "metadata": {},
     "source": [
      "Rows are split in to lists based on the seperator on the fly"
     ]
    },
    {
     "cell_type": "markdown",
     "metadata": {},
     "source": [
      "### Dialects"
     ]
    },
    {
     "cell_type": "markdown",
     "metadata": {},
     "source": [
      "There's no clear standard for the which characters are used for delimnation of columns and rows.\n",
      "\n",
      "The specific setting of formatting is called a **dialect**\n",
      "\n",
      "The default in `csv` is to use `,` for columns and `\\r\\n` for rows."
     ]
    },
    {
     "cell_type": "code",
     "collapsed": false,
     "input": [
      "csv.list_dialects()"
     ],
     "language": "python",
     "metadata": {},
     "outputs": [
      {
       "output_type": "pyout",
       "prompt_number": 118,
       "text": [
        "['excel-tab', 'excel']"
       ]
      }
     ],
     "prompt_number": 118
    },
    {
     "cell_type": "markdown",
     "metadata": {},
     "source": [
      "`excel-tab` uses `\\t` for columns delimination"
     ]
    },
    {
     "cell_type": "markdown",
     "metadata": {},
     "source": [
      "If we want to seperate fields which internally uses `,`, we could for example use `;`\n",
      "as a deliminator."
     ]
    },
    {
     "cell_type": "code",
     "collapsed": false,
     "input": [
      "%%bash\n",
      "head example.csv"
     ],
     "language": "python",
     "metadata": {},
     "outputs": [
      {
       "output_type": "stream",
       "stream": "stdout",
       "text": [
        "chapter; pages with footnotes; pages with references\n",
        "1; 5,6; 1,2,4,5\n",
        "2; 8; 7,8,9\n",
        "3; 11,12; 10,12,13,14\n",
        "4; 16,19; 16,17,20"
       ]
      }
     ],
     "prompt_number": 155
    },
    {
     "cell_type": "code",
     "collapsed": false,
     "input": [
      "csv.register_dialect(\"semicolon\", delimiter=\";\", skipinitialspace=True)\n",
      "csv.list_dialects()"
     ],
     "language": "python",
     "metadata": {},
     "outputs": [
      {
       "output_type": "pyout",
       "prompt_number": 162,
       "text": [
        "['excel-tab', 'excel', 'semicolon']"
       ]
      }
     ],
     "prompt_number": 162
    },
    {
     "cell_type": "code",
     "collapsed": false,
     "input": [
      "f = open(\"example.csv\", \"r\")\n",
      "\n",
      "reader = csv.reader(f, \"semicolon\")\n",
      "\n",
      "for line in reader:\n",
      "    print(line)\n",
      "\n",
      "f.close()"
     ],
     "language": "python",
     "metadata": {},
     "outputs": [
      {
       "output_type": "stream",
       "stream": "stdout",
       "text": [
        "['chapter', 'pages with footnotes', 'pages with references']\n",
        "['1', '5,6', '1,2,4,5']\n",
        "['2', '8', '7,8,9']\n",
        "['3', '11,12', '10,12,13,14']\n",
        "['4', '16,19', '16,17,20']\n"
       ]
      }
     ],
     "prompt_number": 166
    },
    {
     "cell_type": "markdown",
     "metadata": {},
     "source": [
      "### Automatically detecting dialect"
     ]
    },
    {
     "cell_type": "code",
     "collapsed": false,
     "input": [
      "sniffer = csv.Sniffer()"
     ],
     "language": "python",
     "metadata": {},
     "outputs": [],
     "prompt_number": 178
    },
    {
     "cell_type": "markdown",
     "metadata": {},
     "source": [
      "`csv.Sniffer` analyzes text for patterns, to find the dialect"
     ]
    },
    {
     "cell_type": "code",
     "collapsed": false,
     "input": [
      "f = open(\"example.csv\", \"r\")"
     ],
     "language": "python",
     "metadata": {},
     "outputs": [],
     "prompt_number": 214
    },
    {
     "cell_type": "code",
     "collapsed": false,
     "input": [
      "sample = f.read()\n",
      "\n",
      "dialect = sniffer.sniff(sample)\n",
      "\n",
      "f.seek(0)\n",
      "reader = csv.reader(f, dialect)\n",
      "for line in reader:\n",
      "    print(line)\n",
      "\n",
      "f.seek(0)"
     ],
     "language": "python",
     "metadata": {},
     "outputs": [
      {
       "output_type": "stream",
       "stream": "stdout",
       "text": [
        "['chapter', 'pages with footnotes', 'pages with references']\n",
        "['1', '5,6', '1,2,4,5']\n",
        "['2', '8', '7,8,9']\n",
        "['3', '11,12', '10,12,13,14']\n",
        "['4', '16,19', '16,17,20']\n"
       ]
      }
     ],
     "prompt_number": 235
    },
    {
     "cell_type": "markdown",
     "metadata": {},
     "source": [
      "`csv` can be very large, reading all of it to find the dialect can be time\n",
      "consuming and not necessary"
     ]
    },
    {
     "cell_type": "code",
     "collapsed": false,
     "input": [
      "sample = f.read(7)  # Read 7 bytes\n",
      "\n",
      "print(repr(sample))\n",
      "print(\"\")\n",
      "\n",
      "f.seek(0)\n",
      "\n",
      "dialect = sniffer.sniff(sample)\n",
      "\n",
      "reader = csv.reader(f, dialect)\n",
      "for line in reader:\n",
      "    print(line)\n",
      "\n",
      "f.seek(0)"
     ],
     "language": "python",
     "metadata": {},
     "outputs": [
      {
       "output_type": "stream",
       "stream": "stdout",
       "text": [
        "'chapter'\n",
        "\n",
        "['chap', 'er; pages wi', 'h foo', 'no', 'es; pages wi', 'h references']\n",
        "['1; 5,6; 1,2,4,5']\n",
        "['2; 8; 7,8,9']\n",
        "['3; 11,12; 10,12,13,14']\n",
        "['4; 16,19; 16,17,20']\n"
       ]
      }
     ],
     "prompt_number": 247
    },
    {
     "cell_type": "markdown",
     "metadata": {},
     "source": [
      "Undersampling can of course yield erronous dialects"
     ]
    },
    {
     "cell_type": "code",
     "collapsed": false,
     "input": [
      "sample = f.read(80)\n",
      "\n",
      "print(repr(sample))\n",
      "print(\"\")\n",
      "\n",
      "f.seek(0)\n",
      "\n",
      "dialect = sniffer.sniff(sample)\n",
      "\n",
      "reader = csv.reader(f, dialect)\n",
      "for line in reader:\n",
      "    print(line)\n",
      "\n",
      "f.seek(0)"
     ],
     "language": "python",
     "metadata": {},
     "outputs": [
      {
       "output_type": "stream",
       "stream": "stdout",
       "text": [
        "'chapter; pages with footnotes; pages with references\\n1; 5,6; 1,2,4,5\\n2; 8; 7,8,9'\n",
        "\n",
        "['chapter', 'pages with footnotes', 'pages with references']\n",
        "['1', '5,6', '1,2,4,5']\n",
        "['2', '8', '7,8,9']\n",
        "['3', '11,12', '10,12,13,14']\n",
        "['4', '16,19', '16,17,20']\n"
       ]
      }
     ],
     "prompt_number": 249
    },
    {
     "cell_type": "markdown",
     "metadata": {},
     "source": [
      "For larger files, around 1024 bytes is quite good, you want to have a few lines in the samples"
     ]
    },
    {
     "cell_type": "code",
     "collapsed": false,
     "input": [
      "dialect.delimiter, dialect.lineterminator, dialect.skipinitialspace"
     ],
     "language": "python",
     "metadata": {},
     "outputs": [
      {
       "output_type": "pyout",
       "prompt_number": 254,
       "text": [
        "(';', '\\r\\n', True)"
       ]
      }
     ],
     "prompt_number": 254
    },
    {
     "cell_type": "code",
     "collapsed": false,
     "input": [
      "sniffer.has_header(sample)"
     ],
     "language": "python",
     "metadata": {},
     "outputs": [
      {
       "output_type": "pyout",
       "prompt_number": 255,
       "text": [
        "True"
       ]
      }
     ],
     "prompt_number": 255
    },
    {
     "cell_type": "code",
     "collapsed": false,
     "input": [
      "f.close()"
     ],
     "language": "python",
     "metadata": {},
     "outputs": [],
     "prompt_number": 256
    },
    {
     "cell_type": "code",
     "collapsed": false,
     "input": [
      "f = open(\"thousand_signs.csv\", \"r\")\n",
      "sample = f.read(100)\n",
      "f.close\n",
      "\n",
      "sniffer.has_header(sample)"
     ],
     "language": "python",
     "metadata": {},
     "outputs": [
      {
       "output_type": "pyout",
       "prompt_number": 257,
       "text": [
        "False"
       ]
      }
     ],
     "prompt_number": 257
    },
    {
     "cell_type": "markdown",
     "metadata": {},
     "source": [
      "## JSON"
     ]
    },
    {
     "cell_type": "markdown",
     "metadata": {},
     "source": [
      "Builtin module `json`\n",
      "\n",
      "JavaScript Object Notation, human readable serialization of data.\n",
      "\n",
      "Mostly known from sending data between server and client in web applications\n",
      "\n",
      "In Python nomenclature, one can say it consists of lists and dictionaries,\n",
      "which can be populated by strings, integers and floats"
     ]
    },
    {
     "cell_type": "code",
     "collapsed": false,
     "input": [
      "%%bash\n",
      "# Example from wikipeda page on JSON\n",
      "cat example.json"
     ],
     "language": "python",
     "metadata": {},
     "outputs": [
      {
       "output_type": "stream",
       "stream": "stdout",
       "text": [
        "{\n",
        "    \"firstName\": \"John\",\n",
        "    \"lastName\": \"Smith\",\n",
        "    \"age\": 25,\n",
        "    \"address\": {\n",
        "        \"streetAddress\": \"21 2nd Street\",\n",
        "        \"city\": \"New York\",\n",
        "        \"state\": \"NY\",\n",
        "        \"postalCode\": \"10021\"\n",
        "    },\n",
        "    \"phoneNumber\": [\n",
        "        {\n",
        "            \"type\": \"home\",\n",
        "            \"number\": \"212 555-1234\"\n",
        "        },\n",
        "        {\n",
        "            \"type\": \"fax\",\n",
        "            \"number\": \"646 555-4567\"\n",
        "        }\n",
        "    ]\n",
        "}"
       ]
      }
     ],
     "prompt_number": 269
    },
    {
     "cell_type": "code",
     "collapsed": false,
     "input": [
      "import json"
     ],
     "language": "python",
     "metadata": {},
     "outputs": [],
     "prompt_number": 273
    },
    {
     "cell_type": "code",
     "collapsed": false,
     "input": [
      "f = open(\"example.json\", \"r\")\n",
      "\n",
      "json_data = json.load(f)\n",
      "\n",
      "f.close()\n",
      "\n",
      "json_data"
     ],
     "language": "python",
     "metadata": {},
     "outputs": [
      {
       "output_type": "pyout",
       "prompt_number": 280,
       "text": [
        "{u'address': {u'city': u'New York',\n",
        "  u'postalCode': u'10021',\n",
        "  u'state': u'NY',\n",
        "  u'streetAddress': u'21 2nd Street'},\n",
        " u'age': 25,\n",
        " u'firstName': u'John',\n",
        " u'lastName': u'Smith',\n",
        " u'phoneNumber': [{u'number': u'212 555-1234', u'type': u'home'},\n",
        "  {u'number': u'646 555-4567', u'type': u'fax'}]}"
       ]
      }
     ],
     "prompt_number": 280
    },
    {
     "cell_type": "markdown",
     "metadata": {},
     "source": [
      "## YAML"
     ]
    },
    {
     "cell_type": "markdown",
     "metadata": {},
     "source": [
      "Package `pyyaml`, install by `pip install pyyaml`"
     ]
    },
    {
     "cell_type": "heading",
     "level": 2,
     "metadata": {},
     "source": [
      "Databases"
     ]
    },
    {
     "cell_type": "markdown",
     "metadata": {},
     "source": [
      "- `SQLAlchemy`\n",
      "\n",
      "Drivers for popular none-SQL databases:\n",
      "\n",
      "- pycouchdb\n",
      "- pymongo"
     ]
    },
    {
     "cell_type": "heading",
     "level": 2,
     "metadata": {},
     "source": [
      "Web services "
     ]
    },
    {
     "cell_type": "code",
     "collapsed": false,
     "input": [],
     "language": "python",
     "metadata": {},
     "outputs": []
    }
   ],
   "metadata": {}
  }
 ]
}