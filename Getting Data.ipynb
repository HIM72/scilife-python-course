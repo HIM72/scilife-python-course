{
 "metadata": {
  "name": "Getting Data"
 },
 "nbformat": 3,
 "nbformat_minor": 0,
 "worksheets": [
  {
   "cells": [
    {
     "cell_type": "heading",
     "level": 2,
     "metadata": {},
     "source": [
      "XML"
     ]
    },
    {
     "cell_type": "markdown",
     "metadata": {},
     "source": [
      "Simple example from http://software-carpentry.org/3_0/xml.html\n",
      "\n",
      "    <?xml version=\"1.0\" encoding=\"utf-8\"?>\n",
      "    <planet name=\"Mercury\">\n",
      "      <period units=\"days\">87.97</period>\n",
      "    </planet>\n",
      "\n",
      "XML files are best viewed as trees"
     ]
    },
    {
     "cell_type": "markdown",
     "metadata": {},
     "source": [
      "Very common structured data format, supporting hierarchical, nested data with metadata."
     ]
    },
    {
     "cell_type": "markdown",
     "metadata": {},
     "source": [
      "Recommended libraries:\n",
      "\n",
      "- `lxml` (Performance)\n",
      "- `untangle` (Simplicity)"
     ]
    },
    {
     "cell_type": "markdown",
     "metadata": {},
     "source": [
      "`$ pip install untangle`"
     ]
    },
    {
     "cell_type": "heading",
     "level": 3,
     "metadata": {},
     "source": [
      "untangle"
     ]
    },
    {
     "cell_type": "markdown",
     "metadata": {},
     "source": [
      "Example data is an XML file with information about outages on escalators and elevators in the New York subway system"
     ]
    },
    {
     "cell_type": "code",
     "collapsed": false,
     "input": [
      "xml_file = \"nyct_ene.xml\""
     ],
     "language": "python",
     "metadata": {},
     "outputs": [],
     "prompt_number": 1
    },
    {
     "cell_type": "code",
     "collapsed": false,
     "input": [
      "import untangle"
     ],
     "language": "python",
     "metadata": {},
     "outputs": [],
     "prompt_number": 2
    },
    {
     "cell_type": "code",
     "collapsed": false,
     "input": [
      "doc = untangle.parse(xml_file)"
     ],
     "language": "python",
     "metadata": {},
     "outputs": [],
     "prompt_number": 3
    },
    {
     "cell_type": "code",
     "collapsed": false,
     "input": [
      "doc.get_elements()"
     ],
     "language": "python",
     "metadata": {},
     "outputs": [
      {
       "output_type": "pyout",
       "prompt_number": 4,
       "text": [
        "[Element(name = NYCOutages, attributes = {}, cdata = )]"
       ]
      }
     ],
     "prompt_number": 4
    },
    {
     "cell_type": "code",
     "collapsed": false,
     "input": [
      "doc."
     ],
     "language": "python",
     "metadata": {},
     "outputs": [
      {
       "ename": "SyntaxError",
       "evalue": "invalid syntax (<ipython-input-5-baa82b978199>, line 1)",
       "output_type": "pyerr",
       "traceback": [
        "\u001b[0;36m  File \u001b[0;32m\"<ipython-input-5-baa82b978199>\"\u001b[0;36m, line \u001b[0;32m1\u001b[0m\n\u001b[0;31m    doc.\u001b[0m\n\u001b[0m        ^\u001b[0m\n\u001b[0;31mSyntaxError\u001b[0m\u001b[0;31m:\u001b[0m invalid syntax\n"
       ]
      }
     ],
     "prompt_number": 5
    },
    {
     "cell_type": "code",
     "collapsed": false,
     "input": [
      "outages = doc.NYCOutages.outage"
     ],
     "language": "python",
     "metadata": {},
     "outputs": [],
     "prompt_number": 6
    },
    {
     "cell_type": "code",
     "collapsed": false,
     "input": [
      "len(outages)"
     ],
     "language": "python",
     "metadata": {},
     "outputs": [
      {
       "output_type": "pyout",
       "prompt_number": 7,
       "text": [
        "38"
       ]
      }
     ],
     "prompt_number": 7
    },
    {
     "cell_type": "code",
     "collapsed": false,
     "input": [
      "outage = outages[5]"
     ],
     "language": "python",
     "metadata": {},
     "outputs": [],
     "prompt_number": 8
    },
    {
     "cell_type": "code",
     "collapsed": false,
     "input": [
      "outage.get_elements()"
     ],
     "language": "python",
     "metadata": {},
     "outputs": [
      {
       "output_type": "pyout",
       "prompt_number": 9,
       "text": [
        "[Element(name = station, attributes = {}, cdata = 181 ST STATION),\n",
        " Element(name = borough, attributes = {}, cdata = MN),\n",
        " Element(name = trainno, attributes = {}, cdata = 1),\n",
        " Element(name = equipment, attributes = {}, cdata = EL110),\n",
        " Element(name = equipmenttype, attributes = {}, cdata = EL),\n",
        " Element(name = serving, attributes = {}, cdata = LOWER MEZZANINE TO UPPER MEZZANINE),\n",
        " Element(name = ADA, attributes = {}, cdata = N),\n",
        " Element(name = outagedate, attributes = {}, cdata = 12/27/2012  8:07:00 AM),\n",
        " Element(name = estimatedreturntoservice, attributes = {}, cdata = 12/29/2012 12:00:00 AM),\n",
        " Element(name = reason, attributes = {}, cdata = REPAIR),\n",
        " Element(name = isupcomingoutage, attributes = {}, cdata = N),\n",
        " Element(name = ismaintenanceoutage, attributes = {}, cdata = N)]"
       ]
      }
     ],
     "prompt_number": 9
    },
    {
     "cell_type": "code",
     "collapsed": false,
     "input": [
      "outage.estimatedreturntoservice.cdata"
     ],
     "language": "python",
     "metadata": {},
     "outputs": [
      {
       "output_type": "pyout",
       "prompt_number": 10,
       "text": [
        "u'12/29/2012 12:00:00 AM'"
       ]
      }
     ],
     "prompt_number": 10
    },
    {
     "cell_type": "markdown",
     "metadata": {},
     "source": [
      "##CSV"
     ]
    },
    {
     "cell_type": "markdown",
     "metadata": {},
     "source": [
      "Means a file where data just have some sort of separator"
     ]
    },
    {
     "cell_type": "markdown",
     "metadata": {},
     "source": [
      "Example, small sample of http://a841-dotweb01.nyc.gov/datafeeds/ParkingReg/signs.CSV (88 MB)"
     ]
    },
    {
     "cell_type": "code",
     "collapsed": false,
     "input": [
      "%%bash\n",
      "head thousand_signs.csv"
     ],
     "language": "python",
     "metadata": {},
     "outputs": [
      {
       "output_type": "stream",
       "stream": "stdout",
       "text": [
        "B,P-004958,1,0000 ,   ,Curb Line\r\n",
        "B,P-004958,2,0009 ,   ,Property Line\r\n",
        "B,P-004958,3,0030 ,   ,NIGHT REGULATION (MOON & STARS SYMBOLS) NO PARKING (SANITATION BROOM SYMBOL) MIDNIGHT TO 3AM TUES & FRI <--> (SUPERSEDED BY SP-841C)                                    \r\n",
        "B,P-004958,4,0030 ,   ,1 HOUR PARKING 9AM-7PM EXCEPT SUNDAY                                                                                                                                    \r\n",
        "B,P-004958,5,0208 ,   ,NIGHT REGULATION (MOON & STARS SYMBOLS) NO PARKING (SANITATION BROOM SYMBOL) MIDNIGHT TO 3AM TUES & FRI <--> (SUPERSEDED BY SP-841C)                                    \r\n",
        "B,P-004958,6,0208 ,   ,1 HOUR PARKING 9AM-7PM EXCEPT SUNDAY                                                                                                                                    \r\n",
        "B,P-004958,7,0218 ,   ,Property Line\r\n",
        "B,P-004958,8,0232 ,   ,Curb Line\r\n",
        "B,P-009318,1,0000 ,   ,Curb Line\r\n",
        "B,P-009318,2,0014 ,   ,Building Line\r\n"
       ]
      }
     ],
     "prompt_number": 11
    },
    {
     "cell_type": "markdown",
     "metadata": {},
     "source": [
      "Builtin module `csv`\n",
      "\n",
      "Primary documentation: http://docs.python.org/2.7/library/csv.html"
     ]
    },
    {
     "cell_type": "code",
     "collapsed": false,
     "input": [
      "# Simple reading\n",
      "\n",
      "f = open(\"thousand_signs.csv\", \"r\")\n",
      "for _ in range(3):\n",
      "    print(repr(f.readline()))"
     ],
     "language": "python",
     "metadata": {},
     "outputs": [
      {
       "output_type": "stream",
       "stream": "stdout",
       "text": [
        "'B,P-004958,1,0000 ,   ,Curb Line\\r\\n'\n",
        "'B,P-004958,2,0009 ,   ,Property Line\\r\\n'\n",
        "'B,P-004958,3,0030 ,   ,NIGHT REGULATION (MOON & STARS SYMBOLS) NO PARKING (SANITATION BROOM SYMBOL) MIDNIGHT TO 3AM TUES & FRI <--> (SUPERSEDED BY SP-841C)                                    \\r\\n'\n"
       ]
      }
     ],
     "prompt_number": 12
    },
    {
     "cell_type": "code",
     "collapsed": false,
     "input": [
      "import csv"
     ],
     "language": "python",
     "metadata": {},
     "outputs": [],
     "prompt_number": 13
    },
    {
     "cell_type": "code",
     "collapsed": false,
     "input": [
      "# Using a CSV reader\n",
      "\n",
      "f.seek(0)\n",
      "\n",
      "reader = csv.reader(f)\n",
      "reader"
     ],
     "language": "python",
     "metadata": {},
     "outputs": [
      {
       "output_type": "pyout",
       "prompt_number": 14,
       "text": [
        "<_csv.reader at 0x1084d54b0>"
       ]
      }
     ],
     "prompt_number": 14
    },
    {
     "cell_type": "code",
     "collapsed": false,
     "input": [
      "for _ in range(3):\n",
      "    print(repr(reader.next()))"
     ],
     "language": "python",
     "metadata": {},
     "outputs": [
      {
       "output_type": "stream",
       "stream": "stdout",
       "text": [
        "['B', 'P-004958', '1', '0000 ', '   ', 'Curb Line']\n",
        "['B', 'P-004958', '2', '0009 ', '   ', 'Property Line']\n",
        "['B', 'P-004958', '3', '0030 ', '   ', 'NIGHT REGULATION (MOON & STARS SYMBOLS) NO PARKING (SANITATION BROOM SYMBOL) MIDNIGHT TO 3AM TUES & FRI <--> (SUPERSEDED BY SP-841C)                                    ']\n"
       ]
      }
     ],
     "prompt_number": 15
    },
    {
     "cell_type": "code",
     "collapsed": false,
     "input": [
      "f.close()"
     ],
     "language": "python",
     "metadata": {},
     "outputs": [],
     "prompt_number": 16
    },
    {
     "cell_type": "markdown",
     "metadata": {},
     "source": [
      "Rows are split in to lists based on the seperator on the fly"
     ]
    },
    {
     "cell_type": "markdown",
     "metadata": {},
     "source": [
      "### Dialects"
     ]
    },
    {
     "cell_type": "markdown",
     "metadata": {},
     "source": [
      "There's no clear standard for the which characters are used for separation of columns and rows.\n",
      "\n",
      "The specific setting of formatting is called a **dialect**\n",
      "\n",
      "The default in `csv` is to use `,` for columns and `\\r\\n` for rows."
     ]
    },
    {
     "cell_type": "code",
     "collapsed": false,
     "input": [
      "csv.list_dialects()"
     ],
     "language": "python",
     "metadata": {},
     "outputs": [
      {
       "output_type": "pyout",
       "prompt_number": 17,
       "text": [
        "['excel-tab', 'excel']"
       ]
      }
     ],
     "prompt_number": 17
    },
    {
     "cell_type": "markdown",
     "metadata": {},
     "source": [
      "`excel-tab` uses `\\t` for column separations"
     ]
    },
    {
     "cell_type": "markdown",
     "metadata": {},
     "source": [
      "If we want to separate fields which internally uses `,`, we could for example use `;`\n",
      "as a separator."
     ]
    },
    {
     "cell_type": "code",
     "collapsed": false,
     "input": [
      "%%bash\n",
      "head example.csv"
     ],
     "language": "python",
     "metadata": {},
     "outputs": [
      {
       "output_type": "stream",
       "stream": "stdout",
       "text": [
        "chapter; pages with footnotes; pages with references\n",
        "1; 5,6; 1,2,4,5\n",
        "2; 8; 7,8,9\n",
        "3; 11,12; 10,12,13,14\n",
        "4; 16,19; 16,17,20"
       ]
      }
     ],
     "prompt_number": 18
    },
    {
     "cell_type": "code",
     "collapsed": false,
     "input": [
      "csv.register_dialect(\"semicolon\", delimiter=\";\", skipinitialspace=True)\n",
      "csv.list_dialects()"
     ],
     "language": "python",
     "metadata": {},
     "outputs": [
      {
       "output_type": "pyout",
       "prompt_number": 19,
       "text": [
        "['excel-tab', 'excel', 'semicolon']"
       ]
      }
     ],
     "prompt_number": 19
    },
    {
     "cell_type": "code",
     "collapsed": false,
     "input": [
      "f = open(\"example.csv\", \"r\")\n",
      "\n",
      "reader = csv.reader(f, \"semicolon\")\n",
      "\n",
      "for line in reader:\n",
      "    print(line)\n",
      "\n",
      "f.close()"
     ],
     "language": "python",
     "metadata": {},
     "outputs": [
      {
       "output_type": "stream",
       "stream": "stdout",
       "text": [
        "['chapter', 'pages with footnotes', 'pages with references']\n",
        "['1', '5,6', '1,2,4,5']\n",
        "['2', '8', '7,8,9']\n",
        "['3', '11,12', '10,12,13,14']\n",
        "['4', '16,19', '16,17,20']\n"
       ]
      }
     ],
     "prompt_number": 20
    },
    {
     "cell_type": "markdown",
     "metadata": {},
     "source": [
      "### Automatically detecting dialect"
     ]
    },
    {
     "cell_type": "code",
     "collapsed": false,
     "input": [
      "sniffer = csv.Sniffer()"
     ],
     "language": "python",
     "metadata": {},
     "outputs": [],
     "prompt_number": 21
    },
    {
     "cell_type": "markdown",
     "metadata": {},
     "source": [
      "`csv.Sniffer` analyzes text for patterns, to find the dialect"
     ]
    },
    {
     "cell_type": "code",
     "collapsed": false,
     "input": [
      "f = open(\"example.csv\", \"r\")"
     ],
     "language": "python",
     "metadata": {},
     "outputs": [],
     "prompt_number": 22
    },
    {
     "cell_type": "code",
     "collapsed": false,
     "input": [
      "sample = f.read()\n",
      "\n",
      "dialect = sniffer.sniff(sample)\n",
      "\n",
      "f.seek(0)\n",
      "reader = csv.reader(f, dialect)\n",
      "for line in reader:\n",
      "    print(line)\n",
      "\n",
      "f.seek(0)"
     ],
     "language": "python",
     "metadata": {},
     "outputs": [
      {
       "output_type": "stream",
       "stream": "stdout",
       "text": [
        "['chapter', 'pages with footnotes', 'pages with references']\n",
        "['1', '5,6', '1,2,4,5']\n",
        "['2', '8', '7,8,9']\n",
        "['3', '11,12', '10,12,13,14']\n",
        "['4', '16,19', '16,17,20']\n"
       ]
      }
     ],
     "prompt_number": 23
    },
    {
     "cell_type": "markdown",
     "metadata": {},
     "source": [
      "`csv` can be very large, reading all of it to find the dialect can be time\n",
      "consuming and not necessary"
     ]
    },
    {
     "cell_type": "code",
     "collapsed": false,
     "input": [
      "sample = f.read(7)  # Read 7 bytes\n",
      "\n",
      "print(repr(sample))\n",
      "print(\"\")\n",
      "\n",
      "f.seek(0)\n",
      "\n",
      "dialect = sniffer.sniff(sample)\n",
      "\n",
      "reader = csv.reader(f, dialect)\n",
      "for line in reader:\n",
      "    print(line)\n",
      "\n",
      "f.seek(0)"
     ],
     "language": "python",
     "metadata": {},
     "outputs": [
      {
       "output_type": "stream",
       "stream": "stdout",
       "text": [
        "'chapter'\n",
        "\n",
        "['chap', 'er; pages wi', 'h foo', 'no', 'es; pages wi', 'h references']\n",
        "['1; 5,6; 1,2,4,5']\n",
        "['2; 8; 7,8,9']\n",
        "['3; 11,12; 10,12,13,14']\n",
        "['4; 16,19; 16,17,20']\n"
       ]
      }
     ],
     "prompt_number": 24
    },
    {
     "cell_type": "markdown",
     "metadata": {},
     "source": [
      "Undersampling can of course yield erronous dialects"
     ]
    },
    {
     "cell_type": "code",
     "collapsed": false,
     "input": [
      "sample = f.read(80)\n",
      "\n",
      "print(repr(sample))\n",
      "print(\"\")\n",
      "\n",
      "f.seek(0)\n",
      "\n",
      "dialect = sniffer.sniff(sample)\n",
      "\n",
      "reader = csv.reader(f, dialect)\n",
      "for line in reader:\n",
      "    print(line)\n",
      "\n",
      "f.seek(0)"
     ],
     "language": "python",
     "metadata": {},
     "outputs": [
      {
       "output_type": "stream",
       "stream": "stdout",
       "text": [
        "'chapter; pages with footnotes; pages with references\\n1; 5,6; 1,2,4,5\\n2; 8; 7,8,9'\n",
        "\n",
        "['chapter', 'pages with footnotes', 'pages with references']\n",
        "['1', '5,6', '1,2,4,5']\n",
        "['2', '8', '7,8,9']\n",
        "['3', '11,12', '10,12,13,14']\n",
        "['4', '16,19', '16,17,20']\n"
       ]
      }
     ],
     "prompt_number": 25
    },
    {
     "cell_type": "markdown",
     "metadata": {},
     "source": [
      "For larger files, around 1024 bytes is quite good, you want to have a few lines in the samples"
     ]
    },
    {
     "cell_type": "code",
     "collapsed": false,
     "input": [
      "dialect.delimiter, dialect.lineterminator, dialect.skipinitialspace"
     ],
     "language": "python",
     "metadata": {},
     "outputs": [
      {
       "output_type": "pyout",
       "prompt_number": 26,
       "text": [
        "(';', '\\r\\n', True)"
       ]
      }
     ],
     "prompt_number": 26
    },
    {
     "cell_type": "code",
     "collapsed": false,
     "input": [
      "sniffer.has_header(sample)"
     ],
     "language": "python",
     "metadata": {},
     "outputs": [
      {
       "output_type": "pyout",
       "prompt_number": 27,
       "text": [
        "True"
       ]
      }
     ],
     "prompt_number": 27
    },
    {
     "cell_type": "code",
     "collapsed": false,
     "input": [
      "f.close()"
     ],
     "language": "python",
     "metadata": {},
     "outputs": [],
     "prompt_number": 28
    },
    {
     "cell_type": "code",
     "collapsed": false,
     "input": [
      "f = open(\"thousand_signs.csv\", \"r\")\n",
      "sample = f.read(100)\n",
      "f.close\n",
      "\n",
      "sniffer.has_header(sample)"
     ],
     "language": "python",
     "metadata": {},
     "outputs": [
      {
       "output_type": "pyout",
       "prompt_number": 29,
       "text": [
        "False"
       ]
      }
     ],
     "prompt_number": 29
    },
    {
     "cell_type": "markdown",
     "metadata": {},
     "source": [
      "## JSON"
     ]
    },
    {
     "cell_type": "markdown",
     "metadata": {},
     "source": [
      "Builtin module `json`\n",
      "\n",
      "JavaScript Object Notation, human readable serialization of data.\n",
      "\n",
      "Mostly known from sending data between server and client in web applications\n",
      "\n",
      "In Python nomenclature, one can say it consists of lists and dictionaries,\n",
      "which can be populated by strings, integers and floats"
     ]
    },
    {
     "cell_type": "code",
     "collapsed": false,
     "input": [
      "%%bash\n",
      "# Example from wikipeda page on JSON\n",
      "cat example.json"
     ],
     "language": "python",
     "metadata": {},
     "outputs": [
      {
       "output_type": "stream",
       "stream": "stdout",
       "text": [
        "{\n",
        "    \"firstName\": \"John\",\n",
        "    \"lastName\": \"Smith\",\n",
        "    \"age\": 25,\n",
        "    \"address\": {\n",
        "        \"streetAddress\": \"21 2nd Street\",\n",
        "        \"city\": \"New York\",\n",
        "        \"state\": \"NY\",\n",
        "        \"postalCode\": \"10021\"\n",
        "    },\n",
        "    \"phoneNumber\": [\n",
        "        {\n",
        "            \"type\": \"home\",\n",
        "            \"number\": \"212 555-1234\"\n",
        "        },\n",
        "        {\n",
        "            \"type\": \"fax\",\n",
        "            \"number\": \"646 555-4567\"\n",
        "        }\n",
        "    ]\n",
        "}"
       ]
      }
     ],
     "prompt_number": 30
    },
    {
     "cell_type": "code",
     "collapsed": false,
     "input": [
      "import json"
     ],
     "language": "python",
     "metadata": {},
     "outputs": [],
     "prompt_number": 31
    },
    {
     "cell_type": "code",
     "collapsed": false,
     "input": [
      "f = open(\"example.json\", \"r\")\n",
      "\n",
      "json_data = json.load(f)\n",
      "\n",
      "f.close()\n",
      "\n",
      "json_data"
     ],
     "language": "python",
     "metadata": {},
     "outputs": [
      {
       "output_type": "pyout",
       "prompt_number": 32,
       "text": [
        "{u'address': {u'city': u'New York',\n",
        "  u'postalCode': u'10021',\n",
        "  u'state': u'NY',\n",
        "  u'streetAddress': u'21 2nd Street'},\n",
        " u'age': 25,\n",
        " u'firstName': u'John',\n",
        " u'lastName': u'Smith',\n",
        " u'phoneNumber': [{u'number': u'212 555-1234', u'type': u'home'},\n",
        "  {u'number': u'646 555-4567', u'type': u'fax'}]}"
       ]
      }
     ],
     "prompt_number": 32
    },
    {
     "cell_type": "markdown",
     "metadata": {},
     "source": [
      "## YAML"
     ]
    },
    {
     "cell_type": "markdown",
     "metadata": {},
     "source": [
      "Package `pyyaml`, install by `pip install pyyaml`"
     ]
    },
    {
     "cell_type": "heading",
     "level": 2,
     "metadata": {},
     "source": [
      "Databases"
     ]
    },
    {
     "cell_type": "markdown",
     "metadata": {},
     "source": [
      "Drivers for popular none-SQL databases:\n",
      "\n",
      "- pycouchdb\n",
      "- pymongo"
     ]
    },
    {
     "cell_type": "heading",
     "level": 2,
     "metadata": {},
     "source": [
      "Web services "
     ]
    },
    {
     "cell_type": "markdown",
     "metadata": {},
     "source": [
      "A common way to make data available is in the form of a web service.\n",
      "\n",
      "To get data one sends a `GET` command to a server, which interprets\n",
      "the `URI` used to send the `GET` command, and sends back what one\n",
      "asked for."
     ]
    },
    {
     "cell_type": "markdown",
     "metadata": {},
     "source": [
      "Python comes with several http libraries, but the recommendation is to install the package `requests`\n",
      "\n",
      "( `pip install requests` )\n",
      "\n",
      "Documentation on http://docs.python-requests.org/"
     ]
    },
    {
     "cell_type": "code",
     "collapsed": false,
     "input": [
      "import requests"
     ],
     "language": "python",
     "metadata": {},
     "outputs": [],
     "prompt_number": 33
    },
    {
     "cell_type": "code",
     "collapsed": false,
     "input": [
      "r = requests.get(\"http://ws.spotify.com/search/1/track.json\", params={\"q\": \"kaizers orchestra\"})"
     ],
     "language": "python",
     "metadata": {},
     "outputs": [],
     "prompt_number": 34
    },
    {
     "cell_type": "code",
     "collapsed": false,
     "input": [
      "r.url"
     ],
     "language": "python",
     "metadata": {},
     "outputs": [
      {
       "output_type": "pyout",
       "prompt_number": 35,
       "text": [
        "u'http://ws.spotify.com/search/1/track.json?q=kaizers+orchestra'"
       ]
      }
     ],
     "prompt_number": 35
    },
    {
     "cell_type": "code",
     "collapsed": false,
     "input": [
      "r.status_code"
     ],
     "language": "python",
     "metadata": {},
     "outputs": [
      {
       "output_type": "pyout",
       "prompt_number": 36,
       "text": [
        "200"
       ]
      }
     ],
     "prompt_number": 36
    },
    {
     "cell_type": "code",
     "collapsed": false,
     "input": [
      "r.text[:2000]"
     ],
     "language": "python",
     "metadata": {},
     "outputs": [
      {
       "output_type": "pyout",
       "prompt_number": 37,
       "text": [
        "u'{\"info\": {\"num_results\": 417, \"limit\": 100, \"offset\": 0, \"query\": \"kaizers orchestra\", \"type\": \"track\", \"page\": 1}, \"tracks\": [{\"album\": {\"released\": \"2012\", \"href\": \"spotify:album:5AN6A9IR1g1xRgY0RoKOsT\", \"name\": \"Hjerteknuser\", \"availability\": {\"territories\": \"NO\"}}, \"name\": \"Hjerteknuser\", \"popularity\": \"0.66621\", \"external-ids\": [{\"type\": \"isrc\", \"id\": \"NOHDL1002070\"}], \"length\": 199.407, \"href\": \"spotify:track:6dKWi7apHjn2W7Ojncv4Wu\", \"artists\": [{\"href\": \"spotify:artist:1s1DnVoBDfp3jxjjew8cBR\", \"name\": \"Kaizers Orchestra\"}], \"track-number\": \"1\"}, {\"album\": {\"released\": \"2012\", \"href\": \"spotify:album:2oZ0PnxiH9LaoUAFzlPSGK\", \"name\": \"Siste dans\", \"availability\": {\"territories\": \"NO\"}}, \"name\": \"Siste dans\", \"popularity\": \"0.64841\", \"external-ids\": [{\"type\": \"isrc\", \"id\": \"NOHDL1202060\"}], \"length\": 217.891, \"href\": \"spotify:track:0z26fQRDfSwxxuyKYrjZn3\", \"artists\": [{\"href\": \"spotify:artist:1s1DnVoBDfp3jxjjew8cBR\", \"name\": \"Kaizers Orchestra\"}], \"track-number\": \"1\"}, {\"album\": {\"released\": \"2010\", \"href\": \"spotify:album:6jbtJwRmuezfOSXyJy3tRZ\", \"name\": \"Violeta Violeta Volume I\", \"availability\": {\"territories\": \"NO\"}}, \"name\": \"Hjerteknuser\", \"popularity\": \"0.63483\", \"external-ids\": [{\"type\": \"isrc\", \"id\": \"NOHDL1002070\"}], \"length\": 200.322, \"href\": \"spotify:track:3NThq9BqYtKYBfsHIogjM6\", \"artists\": [{\"href\": \"spotify:artist:1s1DnVoBDfp3jxjjew8cBR\", \"name\": \"Kaizers Orchestra\"}], \"track-number\": \"7\"}, {\"album\": {\"released\": \"2012\", \"href\": \"spotify:album:5E9Kg0KC7H0CWOVongiKRe\", \"name\": \"Violeta Violeta Volume III\", \"availability\": {\"territories\": \"NO\"}}, \"name\": \"Begravelsespolka\", \"popularity\": \"0.61493\", \"external-ids\": [{\"type\": \"isrc\", \"id\": \"NOHDL1202020\"}], \"length\": 426.58, \"href\": \"spotify:track:4k2VAoUhJx7lxMscgY8USe\", \"artists\": [{\"href\": \"spotify:artist:1s1DnVoBDfp3jxjjew8cBR\", \"name\": \"Kaizers Orchestra\"}], \"track-number\": \"1\"}, {\"album\": {\"released\": \"2012\", \"href\": \"spotify:album:0hoeWFBKo9kGoKMhKOuKRY\", \"name\": \"V\\\\u00e5re Demoner\", \"availabilit'"
       ]
      }
     ],
     "prompt_number": 37
    },
    {
     "cell_type": "code",
     "collapsed": false,
     "input": [
      "json_data = r.json()"
     ],
     "language": "python",
     "metadata": {},
     "outputs": [],
     "prompt_number": 38
    },
    {
     "cell_type": "code",
     "collapsed": false,
     "input": [
      "len(json_data[\"tracks\"])"
     ],
     "language": "python",
     "metadata": {},
     "outputs": [
      {
       "output_type": "pyout",
       "prompt_number": 39,
       "text": [
        "100"
       ]
      }
     ],
     "prompt_number": 39
    },
    {
     "cell_type": "code",
     "collapsed": false,
     "input": [
      "json_data[\"tracks\"][1]"
     ],
     "language": "python",
     "metadata": {},
     "outputs": [
      {
       "output_type": "pyout",
       "prompt_number": 40,
       "text": [
        "{u'album': {u'availability': {u'territories': u'NO'},\n",
        "  u'href': u'spotify:album:2oZ0PnxiH9LaoUAFzlPSGK',\n",
        "  u'name': u'Siste dans',\n",
        "  u'released': u'2012'},\n",
        " u'artists': [{u'href': u'spotify:artist:1s1DnVoBDfp3jxjjew8cBR',\n",
        "   u'name': u'Kaizers Orchestra'}],\n",
        " u'external-ids': [{u'id': u'NOHDL1202060', u'type': u'isrc'}],\n",
        " u'href': u'spotify:track:0z26fQRDfSwxxuyKYrjZn3',\n",
        " u'length': 217.891,\n",
        " u'name': u'Siste dans',\n",
        " u'popularity': u'0.64841',\n",
        " u'track-number': u'1'}"
       ]
      }
     ],
     "prompt_number": 40
    },
    {
     "cell_type": "code",
     "collapsed": false,
     "input": [
      "r.headers"
     ],
     "language": "python",
     "metadata": {},
     "outputs": [
      {
       "output_type": "pyout",
       "prompt_number": 41,
       "text": [
        "{'access-control-allow-origin': '*',\n",
        " 'age': '10058',\n",
        " 'content-length': '58592',\n",
        " 'content-type': 'application/json; charset=utf-8',\n",
        " 'date': 'Tue, 22 Jan 2013 12:17:59 GMT',\n",
        " 'expires': 'Wed, 23 Jan 2013 09:30:21 GMT',\n",
        " 'last-modified': 'Mon, 21 Jan 2013 23:35:15 GMT',\n",
        " 'server': 'lighttpd smisk/1.1.6',\n",
        " 'vary': 'Accept-Charset',\n",
        " 'via': '1.1 varnish',\n",
        " 'x-varnish': '766974840 766737315'}"
       ]
      }
     ],
     "prompt_number": 41
    },
    {
     "cell_type": "code",
     "collapsed": false,
     "input": [
      "logo = requests.get(\"http://www.scilifelab.se/images/logo_header.png\")"
     ],
     "language": "python",
     "metadata": {},
     "outputs": [],
     "prompt_number": 42
    },
    {
     "cell_type": "code",
     "collapsed": false,
     "input": [
      "logo.headers"
     ],
     "language": "python",
     "metadata": {},
     "outputs": [
      {
       "output_type": "pyout",
       "prompt_number": 43,
       "text": [
        "{'accept-ranges': 'bytes',\n",
        " 'connection': 'close',\n",
        " 'content-length': '14922',\n",
        " 'content-type': 'image/png',\n",
        " 'date': 'Tue, 22 Jan 2013 12:13:37 GMT',\n",
        " 'etag': '\"172816a-3a4a-4aab46ed30140\"',\n",
        " 'last-modified': 'Wed, 17 Aug 2011 14:37:17 GMT',\n",
        " 'server': 'Apache/2.2.3 (CentOS)'}"
       ]
      }
     ],
     "prompt_number": 43
    },
    {
     "cell_type": "code",
     "collapsed": false,
     "input": [
      "logo.content[:100]"
     ],
     "language": "python",
     "metadata": {},
     "outputs": [
      {
       "output_type": "pyout",
       "prompt_number": 44,
       "text": [
        "'\\x89PNG\\r\\n\\x1a\\n\\x00\\x00\\x00\\rIHDR\\x00\\x00\\x00\\xfa\\x00\\x00\\x00P\\x08\\x06\\x00\\x00\\x000kh\\xb5\\x00\\x00 \\x00IDATx\\x9c\\xed\\x9dw\\\\TW\\xf6\\xc0\\xcf\\xbd\\xefMo\\x94\\x01\\xa4\\t(\\xa2\\x82X@\\x8d1Q\\x83-\\xd1\\x98\\xc4$\\x0b\\xeb\\xc6\\x18uctw\\x13\\xb3\\xae\\xeeoM4e\\xdcMq\\x93\\x8dIL\\xaf\\x9ah'"
       ]
      }
     ],
     "prompt_number": 44
    },
    {
     "cell_type": "code",
     "collapsed": false,
     "input": [
      "from IPython.core.display import Image"
     ],
     "language": "python",
     "metadata": {},
     "outputs": [],
     "prompt_number": 45
    },
    {
     "cell_type": "code",
     "collapsed": false,
     "input": [
      "Image(logo.content)"
     ],
     "language": "python",
     "metadata": {},
     "outputs": [
      {
       "output_type": "pyout",
       "png": "[encoded data removed]",
       "prompt_number": 46,
       "text": [
        "<IPython.core.display.Image at 0x108a33390>"
       ]
      }
     ],
     "prompt_number": 46
    },
    {
     "cell_type": "markdown",
     "metadata": {},
     "source": [
      "## Task\n",
      "\n",
      "Make a module and script which fetches the XML formatted for the status of escalators in\n",
      "the NYC subway system at http://www.grandcentral.org/developers/data/nyct/nyct_ene.xml,\n",
      "calculate the fraction of those which have the reason \"Repair\", and prints this fraction.\n",
      "\n",
      "(Information about the data can be found at http://www.grandcentral.org/developers/download.html)\n",
      "\n",
      "The script should use the module, and should be installable by `python setup.py install`\n",
      "\n",
      "    [lastname]/\n",
      "        [lastname]/\n",
      "            __init__.py\n",
      "        scripts/\n",
      "            getting_data.py\n",
      "        README.md\n",
      "        setup.py\n",
      "\n",
      "In `setup.py`, add the scripts to the call of the `setup` function.\n",
      "For details, see http://peak.telecommunity.com/DevCenter/setuptools#basic-use\n",
      "\n",
      "This means that after `python setup.py install` has been run, it should be possible to simple type\n",
      "    \n",
      "    $ getting_data.py\n",
      "\n",
      "in the terminal and get the desired output."
     ]
    },
    {
     "cell_type": "code",
     "collapsed": false,
     "input": [],
     "language": "python",
     "metadata": {},
     "outputs": [],
     "prompt_number": 46
    }
   ],
   "metadata": {}
  }
 ]
}