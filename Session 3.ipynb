{
 "metadata": {
  "name": "Session 3"
 },
 "nbformat": 3,
 "nbformat_minor": 0,
 "worksheets": [
  {
   "cells": [
    {
     "cell_type": "markdown",
     "metadata": {},
     "source": [
      "## Don't reinvent the wheel\n",
      "\n",
      "It's possible to use the standard Python data structures for building blocks for most structures you could imagine.\n",
      "\n",
      "- `list`\n",
      "- `tuple`\n",
      "- `set`\n",
      "- `dict`\n",
      "\n",
      "## Collections\n",
      "\n",
      "There is a python module `collections` which contain data structures many find themselves implement often\n",
      "\n",
      "- `Counter`\n",
      "- `defaultdict`\n",
      "- `OrderedDict`\n",
      "- `deque`\n",
      "- `namedtuple()`"
     ]
    },
    {
     "cell_type": "markdown",
     "metadata": {},
     "source": [
      "### `Counter`\n",
      "\n",
      "Counting the number of occarances of items is very common, and can in Python be implemented with a dictionary where the keys are the objects being counted, and the values the count.\n",
      "\n",
      "An efficient implementation of this, along with many convenience features, is avalable in `collections.Counter`."
     ]
    },
    {
     "cell_type": "code",
     "collapsed": false,
     "input": [
      "from collections import Counter"
     ],
     "language": "python",
     "metadata": {},
     "outputs": [],
     "prompt_number": 121
    },
    {
     "cell_type": "code",
     "collapsed": false,
     "input": [
      "c = Counter()"
     ],
     "language": "python",
     "metadata": {},
     "outputs": [],
     "prompt_number": 122
    },
    {
     "cell_type": "code",
     "collapsed": false,
     "input": [
      "c"
     ],
     "language": "python",
     "metadata": {},
     "outputs": [
      {
       "output_type": "pyout",
       "prompt_number": 123,
       "text": [
        "Counter()"
       ]
      }
     ],
     "prompt_number": 123
    },
    {
     "cell_type": "code",
     "collapsed": false,
     "input": [
      "c[\"a\"]"
     ],
     "language": "python",
     "metadata": {},
     "outputs": [
      {
       "output_type": "pyout",
       "prompt_number": 124,
       "text": [
        "0"
       ]
      }
     ],
     "prompt_number": 124
    },
    {
     "cell_type": "code",
     "collapsed": false,
     "input": [
      "c.update(\"a\")"
     ],
     "language": "python",
     "metadata": {},
     "outputs": [],
     "prompt_number": 125
    },
    {
     "cell_type": "code",
     "collapsed": false,
     "input": [
      "c"
     ],
     "language": "python",
     "metadata": {},
     "outputs": [
      {
       "output_type": "pyout",
       "prompt_number": 120,
       "text": [
        "Counter({'a': 1})"
       ]
      }
     ],
     "prompt_number": 120
    },
    {
     "cell_type": "markdown",
     "metadata": {},
     "source": [
      "We can also instantiate the `Counter` by passing it a container of hashable objects."
     ]
    },
    {
     "cell_type": "code",
     "collapsed": false,
     "input": [
      "c = Counter(\"a quite short but in other ways normal english sentence\")"
     ],
     "language": "python",
     "metadata": {},
     "outputs": [],
     "prompt_number": 129
    },
    {
     "cell_type": "code",
     "collapsed": false,
     "input": [
      "c"
     ],
     "language": "python",
     "metadata": {},
     "outputs": [
      {
       "output_type": "pyout",
       "prompt_number": 130,
       "text": [
        "Counter({' ': 9, 'e': 6, 'n': 5, 't': 5, 's': 4, 'a': 3, 'i': 3, 'h': 3, 'o': 3, 'r': 3, 'l': 2, 'u': 2, 'c': 1, 'b': 1, 'g': 1, 'm': 1, 'q': 1, 'w': 1, 'y': 1})"
       ]
      }
     ],
     "prompt_number": 130
    },
    {
     "cell_type": "code",
     "collapsed": false,
     "input": [
      "c.most_common(5)"
     ],
     "language": "python",
     "metadata": {},
     "outputs": [
      {
       "output_type": "pyout",
       "prompt_number": 131,
       "text": [
        "[(' ', 9), ('e', 6), ('n', 5), ('t', 5), ('s', 4)]"
       ]
      }
     ],
     "prompt_number": 131
    },
    {
     "cell_type": "markdown",
     "metadata": {},
     "source": [
      "`Counters` supports mathematical operations which makes them behave like multisets, for which there are some algorithmic uses."
     ]
    },
    {
     "cell_type": "markdown",
     "metadata": {},
     "source": [
      "### `defaultdict`\n",
      "\n",
      "Say that we want to implement the `Counter` functionality for a normal dict ourselves. A function taking a container of hashables and returning a `dict` of counts would look like this."
     ]
    },
    {
     "cell_type": "code",
     "collapsed": false,
     "input": [
      "def count_items(collection):\n",
      "    counts = dict()\n",
      "    for item in iter(collection):\n",
      "        if item in counts:\n",
      "            counts[item] += 1\n",
      "        else:\n",
      "            counts[item] = 1\n",
      "    \n",
      "    return counts"
     ],
     "language": "python",
     "metadata": {},
     "outputs": [],
     "prompt_number": 140
    },
    {
     "cell_type": "code",
     "collapsed": false,
     "input": [
      "count_items(\"test\")"
     ],
     "language": "python",
     "metadata": {},
     "outputs": [
      {
       "output_type": "pyout",
       "prompt_number": 141,
       "text": [
        "{'e': 1, 's': 1, 't': 2}"
       ]
      }
     ],
     "prompt_number": 141
    },
    {
     "cell_type": "markdown",
     "metadata": {},
     "source": [
      "This recipe of doing things to items in a `dict` in case the exist, or adding them if they don't, is _extremely_ common. So in the interest of not reinventing the wheel there is `collections.defauldict`.\n",
      "\n",
      "a `defaultdict` is instantiated with a _factory_ for items which will be added to the dictionary if we try to access an item which is not there.\n",
      "\n",
      "Normally types act as factories, but it can be any function which returns something."
     ]
    },
    {
     "cell_type": "code",
     "collapsed": false,
     "input": [
      "from collections import defaultdict\n",
      "\n",
      "A = defaultdict(int)\n",
      "A"
     ],
     "language": "python",
     "metadata": {},
     "outputs": [
      {
       "output_type": "pyout",
       "prompt_number": 144,
       "text": [
        "defaultdict(<type 'int'>, {})"
       ]
      }
     ],
     "prompt_number": 144
    },
    {
     "cell_type": "code",
     "collapsed": false,
     "input": [
      "A[\"test\"]"
     ],
     "language": "python",
     "metadata": {},
     "outputs": [
      {
       "output_type": "pyout",
       "prompt_number": 145,
       "text": [
        "0"
       ]
      }
     ],
     "prompt_number": 145
    },
    {
     "cell_type": "code",
     "collapsed": false,
     "input": [
      "A"
     ],
     "language": "python",
     "metadata": {},
     "outputs": [
      {
       "output_type": "pyout",
       "prompt_number": 146,
       "text": [
        "defaultdict(<type 'int'>, {'test': 0})"
       ]
      }
     ],
     "prompt_number": 146
    },
    {
     "cell_type": "code",
     "collapsed": false,
     "input": [
      "B = defaultdict(list)\n",
      "B[\"one\"].append(5)\n",
      "B"
     ],
     "language": "python",
     "metadata": {},
     "outputs": [
      {
       "output_type": "pyout",
       "prompt_number": 147,
       "text": [
        "defaultdict(<type 'list'>, {'one': [5]})"
       ]
      }
     ],
     "prompt_number": 147
    },
    {
     "cell_type": "markdown",
     "metadata": {},
     "source": [
      "### `OrderedDict`"
     ]
    },
    {
     "cell_type": "markdown",
     "metadata": {},
     "source": [
      "### `deque`"
     ]
    },
    {
     "cell_type": "markdown",
     "metadata": {},
     "source": [
      "### `namedtuple()`\n",
      "\n",
      "A simple factory for creating subclasses of `tuple` with predefined fields which can be accesses like attributes"
     ]
    },
    {
     "cell_type": "markdown",
     "metadata": {},
     "source": [
      "## SciPy\n",
      "\n",
      "http://scipy.org/\n",
      "\n",
      "While NumPy provides a powerful array language interface to Python, SciPy provides functionality which uses these arrays for numerical calculations.\n",
      "\n",
      "If you're thinking of writing numerical code, it's a good idea to first check the SciPy documentation; there usually is a good implementation of what you need already.\n",
      "\n",
      "SciPy is divided in to submodules based on the kind of problem they aim to solve. Some highlights:\n",
      "\n",
      "- `scipy.linalg`\n",
      "- `scipy.sparse`\n",
      "- `scipy.integrate`\n",
      "- `scipy.optimize`\n",
      "- `scipy.interpolate`\n",
      "- `scipy.fftpack`\n",
      "- `scipy.signal`\n",
      "- `scipy.stats`\n",
      "\n",
      "The SciPy cookbook has plenty of nice exampels on how to use the different components.\n",
      "\n",
      "http://scipy.org/Cookbook"
     ]
    },
    {
     "cell_type": "code",
     "collapsed": false,
     "input": [
      "from scipy import stats"
     ],
     "language": "python",
     "metadata": {},
     "outputs": [],
     "prompt_number": 30
    },
    {
     "cell_type": "code",
     "collapsed": false,
     "input": [
      "from scipy import interpolate"
     ],
     "language": "python",
     "metadata": {},
     "outputs": [],
     "prompt_number": 31
    },
    {
     "cell_type": "code",
     "collapsed": false,
     "input": [
      "help(interpolate.PiecewisePolynomial)"
     ],
     "language": "python",
     "metadata": {},
     "outputs": [
      {
       "output_type": "stream",
       "stream": "stdout",
       "text": [
        "Help on class PiecewisePolynomial in module scipy.interpolate.polyint:\n",
        "\n",
        "class PiecewisePolynomial(__builtin__.object)\n",
        " |  Piecewise polynomial curve specified by points and derivatives\n",
        " |  \n",
        " |  This class represents a curve that is a piecewise polynomial. It\n",
        " |  passes through a list of points and has specified derivatives at\n",
        " |  each point. The degree of the polynomial may very from segment to\n",
        " |  segment, as may the number of derivatives available. The degree\n",
        " |  should not exceed about thirty.\n",
        " |  \n",
        " |  Appending points to the end of the curve is efficient.\n",
        " |  \n",
        " |  Methods defined here:\n",
        " |  \n",
        " |  __call__(self, x)\n",
        " |      Evaluate the piecewise polynomial\n",
        " |      \n",
        " |      Parameters\n",
        " |      ----------\n",
        " |      x : scalar or array-like of length N\n",
        " |      \n",
        " |      Returns\n",
        " |      -------\n",
        " |      y : scalar or array-like of length R or length N or N by R\n",
        " |  \n",
        " |  __init__(self, xi, yi, orders=None, direction=None)\n",
        " |      Construct a piecewise polynomial\n",
        " |      \n",
        " |      Parameters\n",
        " |      ----------\n",
        " |      xi : array-like of length N\n",
        " |          a sorted list of x-coordinates\n",
        " |      yi : list of lists of length N\n",
        " |          yi[i] is the list of derivatives known at xi[i]\n",
        " |      orders : list of integers, or integer\n",
        " |          a list of polynomial orders, or a single universal order\n",
        " |      direction : {None, 1, -1}\n",
        " |          indicates whether the xi are increasing or decreasing\n",
        " |          +1 indicates increasing\n",
        " |          -1 indicates decreasing\n",
        " |          None indicates that it should be deduced from the first two xi\n",
        " |      \n",
        " |      Notes\n",
        " |      -----\n",
        " |      If orders is None, or orders[i] is None, then the degree of the\n",
        " |      polynomial segment is exactly the degree required to match all i\n",
        " |      available derivatives at both endpoints. If orders[i] is not None,\n",
        " |      then some derivatives will be ignored. The code will try to use an\n",
        " |      equal number of derivatives from each end; if the total number of\n",
        " |      derivatives needed is odd, it will prefer the rightmost endpoint. If\n",
        " |      not enough derivatives are available, an exception is raised.\n",
        " |  \n",
        " |  append(self, xi, yi, order=None)\n",
        " |      Append a single point with derivatives to the PiecewisePolynomial\n",
        " |      \n",
        " |      Parameters\n",
        " |      ----------\n",
        " |      xi : float\n",
        " |      \n",
        " |      yi : array_like\n",
        " |          yi is the list of derivatives known at xi\n",
        " |      \n",
        " |      order : integer or None\n",
        " |          a polynomial order, or instructions to use the highest\n",
        " |          possible order\n",
        " |  \n",
        " |  derivative(self, x, der)\n",
        " |      Evaluate a derivative of the piecewise polynomial\n",
        " |      \n",
        " |      Parameters\n",
        " |      ----------\n",
        " |      x : scalar or array_like of length N\n",
        " |      \n",
        " |      der : integer\n",
        " |          which single derivative to extract\n",
        " |      \n",
        " |      Returns\n",
        " |      -------\n",
        " |      y : scalar or array_like of length R or length N or N by R\n",
        " |      \n",
        " |      Notes\n",
        " |      -----\n",
        " |      This currently computes (using self.derivatives()) all derivatives\n",
        " |      of the curve segment containing each x but returns only one.\n",
        " |  \n",
        " |  derivatives(self, x, der)\n",
        " |      Evaluate a derivative of the piecewise polynomial\n",
        " |      \n",
        " |      Parameters\n",
        " |      ----------\n",
        " |      x : scalar or array_like of length N\n",
        " |      \n",
        " |      der : integer\n",
        " |          how many derivatives (including the function value as\n",
        " |          0th derivative) to extract\n",
        " |      \n",
        " |      Returns\n",
        " |      -------\n",
        " |      y : array_like of shape der by R or der by N or der by N by R\n",
        " |  \n",
        " |  extend(self, xi, yi, orders=None)\n",
        " |      Extend the PiecewisePolynomial by a list of points\n",
        " |      \n",
        " |      Parameters\n",
        " |      ----------\n",
        " |      xi : array_like of length N1\n",
        " |          a sorted list of x-coordinates\n",
        " |      yi : list of lists of length N1\n",
        " |          yi[i] is the list of derivatives known at xi[i]\n",
        " |      orders : list of integers, or integer\n",
        " |          a list of polynomial orders, or a single universal order\n",
        " |      direction : {None, 1, -1}\n",
        " |          indicates whether the xi are increasing or decreasing\n",
        " |          +1 indicates increasing\n",
        " |          -1 indicates decreasing\n",
        " |          None indicates that it should be deduced from the first two xi\n",
        " |  \n",
        " |  ----------------------------------------------------------------------\n",
        " |  Data descriptors defined here:\n",
        " |  \n",
        " |  __dict__\n",
        " |      dictionary for instance variables (if defined)\n",
        " |  \n",
        " |  __weakref__\n",
        " |      list of weak references to the object (if defined)\n",
        "\n"
       ]
      }
     ],
     "prompt_number": 34
    },
    {
     "cell_type": "markdown",
     "metadata": {},
     "source": [
      "In general, methods in SciPy can take an 'array-like' which will be converted to an `np.ndarray`, and hen used in the SciPy modules."
     ]
    },
    {
     "cell_type": "markdown",
     "metadata": {},
     "source": [
      "## SciKits\n",
      "\n",
      "http://scikits.appspot.com/\n",
      "\n",
      "SciKits (SciPy Toolkits) are packages which builds upon SciPy, but are not included with the SciPy package for any of these reasons:\n",
      "\n",
      "- Package uses a license which is not compatible with the SciPy license\n",
      "- Package is too specialized to be worth distributing with SciPy (e.g. `hydroclimpy`)\n",
      "- Package is undergoing rapid development and can change in ways that might break backward compatibility\n",
      "\n",
      "Examples of scikits you hear a lot about\n",
      "\n",
      "- `statsmodels`\n",
      "- `scikit-image`\n",
      "- `scikit-learn`\r"
     ]
    },
    {
     "cell_type": "markdown",
     "metadata": {},
     "source": [
      "## Pandas\n",
      "\n",
      "http://pandas.pydata.org/\n",
      "\n",
      "Most notably provides two data structures which builds upon NumPy arrays:\n",
      "\n",
      "`Series` for 1-dimensional data\n",
      "\n",
      "`DataFrame` for 2-dimensional data\n",
      "\n",
      "- tabular data\n",
      "- time series\n",
      "- panel data\n",
      "\n",
      "Combined with IPython, (and in particular IPython Notebook), Pandas and the numerical packages becomes great for exploring data."
     ]
    },
    {
     "cell_type": "markdown",
     "metadata": {},
     "source": [
      "### `Series`\n",
      "\n",
      "One dimensional labeled array, implemented as subclass of `ndarray`.\n",
      "\n",
      "While a `ndarray` can access elements and slices with numerical indices, a `Series` is indexed by a list of labels for each element."
     ]
    },
    {
     "cell_type": "code",
     "collapsed": false,
     "input": [
      "from pandas import Series"
     ],
     "language": "python",
     "metadata": {},
     "outputs": [],
     "prompt_number": 35
    },
    {
     "cell_type": "code",
     "collapsed": false,
     "input": [
      "a = np.random.randn(5)\n",
      "a"
     ],
     "language": "python",
     "metadata": {},
     "outputs": [
      {
       "output_type": "pyout",
       "prompt_number": 53,
       "text": [
        "array([ 1.4781279 ,  0.96566451,  0.55015645,  0.40553712, -0.84824586])"
       ]
      }
     ],
     "prompt_number": 53
    },
    {
     "cell_type": "code",
     "collapsed": false,
     "input": [
      "Series(a)"
     ],
     "language": "python",
     "metadata": {},
     "outputs": [
      {
       "output_type": "pyout",
       "prompt_number": 56,
       "text": [
        "0    1.478128\n",
        "1    0.965665\n",
        "2    0.550156\n",
        "3    0.405537\n",
        "4   -0.848246"
       ]
      }
     ],
     "prompt_number": 56
    },
    {
     "cell_type": "code",
     "collapsed": false,
     "input": [
      "s = Series(a, index=['a', 'b', 'c', 'd', 'e'])\n",
      "s"
     ],
     "language": "python",
     "metadata": {},
     "outputs": [
      {
       "output_type": "pyout",
       "prompt_number": 63,
       "text": [
        "a    1.478128\n",
        "b    0.965665\n",
        "c    0.550156\n",
        "d    0.405537\n",
        "e   -0.848246"
       ]
      }
     ],
     "prompt_number": 63
    },
    {
     "cell_type": "code",
     "collapsed": false,
     "input": [
      "a[1:4]"
     ],
     "language": "python",
     "metadata": {},
     "outputs": [
      {
       "output_type": "pyout",
       "prompt_number": 58,
       "text": [
        "array([ 0.96566451,  0.55015645,  0.40553712])"
       ]
      }
     ],
     "prompt_number": 58
    },
    {
     "cell_type": "code",
     "collapsed": false,
     "input": [
      "s['b':'d']"
     ],
     "language": "python",
     "metadata": {},
     "outputs": [
      {
       "output_type": "pyout",
       "prompt_number": 57,
       "text": [
        "b    0.965665\n",
        "c    0.550156\n",
        "d    0.405537"
       ]
      }
     ],
     "prompt_number": 57
    },
    {
     "cell_type": "markdown",
     "metadata": {},
     "source": [
      "In many ways a `Series` can be seen as a cross between an `ndarray` and a `dict`, and a very logical way of creating a `Series` is by passing it a `dict`."
     ]
    },
    {
     "cell_type": "code",
     "collapsed": false,
     "input": [
      "d = {'a': 0., 'b': 1., 'c': 2.}\n",
      "s1 = Series(d)\n",
      "s1"
     ],
     "language": "python",
     "metadata": {},
     "outputs": [
      {
       "output_type": "pyout",
       "prompt_number": 65,
       "text": [
        "a    0\n",
        "b    1\n",
        "c    2"
       ]
      }
     ],
     "prompt_number": 65
    },
    {
     "cell_type": "code",
     "collapsed": false,
     "input": [
      "s1.index"
     ],
     "language": "python",
     "metadata": {},
     "outputs": [
      {
       "output_type": "pyout",
       "prompt_number": 66,
       "text": [
        "Index([a, b, c], dtype=object)"
       ]
      }
     ],
     "prompt_number": 66
    },
    {
     "cell_type": "markdown",
     "metadata": {},
     "source": [
      "(Note that the `list` we passed have been converted to an `Index` object.)\n",
      "\n",
      "In most ways a `Series` can be used just as an `ndarray`, however, when doing operations with different series, the data will automatically be aligned by the index labels"
     ]
    },
    {
     "cell_type": "code",
     "collapsed": false,
     "input": [
      "# ndarray\n",
      "a[1:] + a[:-1]"
     ],
     "language": "python",
     "metadata": {},
     "outputs": [
      {
       "output_type": "pyout",
       "prompt_number": 72,
       "text": [
        "array([ 2.44379241,  1.51582097,  0.95569358, -0.44270874])"
       ]
      }
     ],
     "prompt_number": 72
    },
    {
     "cell_type": "code",
     "collapsed": false,
     "input": [
      "# Series\n",
      "s[1:] + s[:-1]"
     ],
     "language": "python",
     "metadata": {},
     "outputs": [
      {
       "output_type": "pyout",
       "prompt_number": 73,
       "text": [
        "a         NaN\n",
        "b    1.931329\n",
        "c    1.100313\n",
        "d    0.811074\n",
        "e         NaN"
       ]
      }
     ],
     "prompt_number": 73
    },
    {
     "cell_type": "markdown",
     "metadata": {},
     "source": [
      "To aid keeping track of `Series`, they can be given names."
     ]
    },
    {
     "cell_type": "code",
     "collapsed": false,
     "input": [
      "s = Series(a, index=['a', 'b', 'c', 'd', 'e'], name=\"Random example data\")\n",
      "s"
     ],
     "language": "python",
     "metadata": {},
     "outputs": [
      {
       "output_type": "pyout",
       "prompt_number": 75,
       "text": [
        "a    1.478128\n",
        "b    0.965665\n",
        "c    0.550156\n",
        "d    0.405537\n",
        "e   -0.848246\n",
        "Name: Random example data"
       ]
      }
     ],
     "prompt_number": 75
    },
    {
     "cell_type": "markdown",
     "metadata": {},
     "source": [
      "### `DataFrame`\n",
      "\n",
      "Two-dimensional labeled data structure, most intuitively thought of as a **table**."
     ]
    },
    {
     "cell_type": "code",
     "collapsed": false,
     "input": [
      "from pandas import DataFrame"
     ],
     "language": "python",
     "metadata": {},
     "outputs": [],
     "prompt_number": 36
    },
    {
     "cell_type": "markdown",
     "metadata": {},
     "source": [
      "A `DataFrame` can be instantiated in many ways, but the most intuitive is when constructed from a `dict` of `Series`."
     ]
    },
    {
     "cell_type": "code",
     "collapsed": false,
     "input": [
      "d = {'one' : Series([1., 2., 3.], index=['a', 'b', 'c']), \\\n",
      "     'two' : Series([1., 2., 3., 4.], index=['a', 'b', 'c', 'd'])}\n",
      "\n",
      "df = DataFrame(d)\n",
      "df"
     ],
     "language": "python",
     "metadata": {},
     "outputs": [
      {
       "html": [
        "<div style=\"max-height:1000px;max-width:1500px;overflow:auto;\">\n",
        "<table border=\"1\">\n",
        "  <thead>\n",
        "    <tr>\n",
        "      <th></th>\n",
        "      <th>one</th>\n",
        "      <th>two</th>\n",
        "    </tr>\n",
        "  </thead>\n",
        "  <tbody>\n",
        "    <tr>\n",
        "      <td><strong>a</strong></td>\n",
        "      <td>  1</td>\n",
        "      <td> 1</td>\n",
        "    </tr>\n",
        "    <tr>\n",
        "      <td><strong>b</strong></td>\n",
        "      <td>  2</td>\n",
        "      <td> 2</td>\n",
        "    </tr>\n",
        "    <tr>\n",
        "      <td><strong>c</strong></td>\n",
        "      <td>  3</td>\n",
        "      <td> 3</td>\n",
        "    </tr>\n",
        "    <tr>\n",
        "      <td><strong>d</strong></td>\n",
        "      <td>NaN</td>\n",
        "      <td> 4</td>\n",
        "    </tr>\n",
        "  </tbody>\n",
        "</table>\n",
        "</div>"
       ],
       "output_type": "pyout",
       "prompt_number": 80,
       "text": [
        "   one  two\n",
        "a    1    1\n",
        "b    2    2\n",
        "c    3    3\n",
        "d  NaN    4"
       ]
      }
     ],
     "prompt_number": 80
    },
    {
     "cell_type": "code",
     "collapsed": false,
     "input": [
      "df.index"
     ],
     "language": "python",
     "metadata": {},
     "outputs": [
      {
       "output_type": "pyout",
       "prompt_number": 81,
       "text": [
        "Index([a, b, c, d], dtype=object)"
       ]
      }
     ],
     "prompt_number": 81
    },
    {
     "cell_type": "code",
     "collapsed": false,
     "input": [
      "df.columns"
     ],
     "language": "python",
     "metadata": {},
     "outputs": [
      {
       "output_type": "pyout",
       "prompt_number": 82,
       "text": [
        "Index([one, two], dtype=object)"
       ]
      }
     ],
     "prompt_number": 82
    },
    {
     "cell_type": "code",
     "collapsed": false,
     "input": [
      "df1 = DataFrame(randn(10, 4), columns=['A', 'B', 'C', 'D'])\n",
      "df2 = DataFrame(randn(7, 3), columns=['A', 'B', 'C'])"
     ],
     "language": "python",
     "metadata": {},
     "outputs": [],
     "prompt_number": 83
    },
    {
     "cell_type": "markdown",
     "metadata": {},
     "source": [
      "Accessing elements directly from a `DataFrame` will give you a `Series`"
     ]
    },
    {
     "cell_type": "code",
     "collapsed": false,
     "input": [
      "df1[\"A\"]"
     ],
     "language": "python",
     "metadata": {},
     "outputs": [
      {
       "output_type": "pyout",
       "prompt_number": 87,
       "text": [
        "0   -0.810229\n",
        "1   -1.009503\n",
        "2   -0.145515\n",
        "3   -0.352390\n",
        "4   -0.674937\n",
        "5   -0.122578\n",
        "6    0.697593\n",
        "7   -0.016351\n",
        "8    0.876523\n",
        "9    1.046951\n",
        "Name: A"
       ]
      }
     ],
     "prompt_number": 87
    },
    {
     "cell_type": "markdown",
     "metadata": {},
     "source": [
      "Slicing directly however only works on rows"
     ]
    },
    {
     "cell_type": "code",
     "collapsed": false,
     "input": [
      "df1[2:4]"
     ],
     "language": "python",
     "metadata": {},
     "outputs": [
      {
       "html": [
        "<div style=\"max-height:1000px;max-width:1500px;overflow:auto;\">\n",
        "<table border=\"1\">\n",
        "  <thead>\n",
        "    <tr>\n",
        "      <th></th>\n",
        "      <th>A</th>\n",
        "      <th>B</th>\n",
        "      <th>C</th>\n",
        "      <th>D</th>\n",
        "    </tr>\n",
        "  </thead>\n",
        "  <tbody>\n",
        "    <tr>\n",
        "      <td><strong>2</strong></td>\n",
        "      <td>-0.145515</td>\n",
        "      <td>-0.168659</td>\n",
        "      <td>-0.082678</td>\n",
        "      <td> 0.910747</td>\n",
        "    </tr>\n",
        "    <tr>\n",
        "      <td><strong>3</strong></td>\n",
        "      <td>-0.352390</td>\n",
        "      <td> 0.826384</td>\n",
        "      <td>-1.554703</td>\n",
        "      <td> 0.523983</td>\n",
        "    </tr>\n",
        "  </tbody>\n",
        "</table>\n",
        "</div>"
       ],
       "output_type": "pyout",
       "prompt_number": 94,
       "text": [
        "          A         B         C         D\n",
        "2 -0.145515 -0.168659 -0.082678  0.910747\n",
        "3 -0.352390  0.826384 -1.554703  0.523983"
       ]
      }
     ],
     "prompt_number": 94
    },
    {
     "cell_type": "markdown",
     "metadata": {},
     "source": [
      "To slice in any direction, use the `ix` attribute of a `DataFrame`."
     ]
    },
    {
     "cell_type": "code",
     "collapsed": false,
     "input": [
      "df1.ix[2:,\"B\":\"D\"]"
     ],
     "language": "python",
     "metadata": {},
     "outputs": [
      {
       "html": [
        "<div style=\"max-height:1000px;max-width:1500px;overflow:auto;\">\n",
        "<table border=\"1\">\n",
        "  <thead>\n",
        "    <tr>\n",
        "      <th></th>\n",
        "      <th>B</th>\n",
        "      <th>C</th>\n",
        "      <th>D</th>\n",
        "    </tr>\n",
        "  </thead>\n",
        "  <tbody>\n",
        "    <tr>\n",
        "      <td><strong>2</strong></td>\n",
        "      <td>-0.168659</td>\n",
        "      <td>-0.082678</td>\n",
        "      <td> 0.910747</td>\n",
        "    </tr>\n",
        "    <tr>\n",
        "      <td><strong>3</strong></td>\n",
        "      <td> 0.826384</td>\n",
        "      <td>-1.554703</td>\n",
        "      <td> 0.523983</td>\n",
        "    </tr>\n",
        "    <tr>\n",
        "      <td><strong>4</strong></td>\n",
        "      <td> 0.252605</td>\n",
        "      <td>-0.377538</td>\n",
        "      <td> 1.482523</td>\n",
        "    </tr>\n",
        "    <tr>\n",
        "      <td><strong>5</strong></td>\n",
        "      <td>-0.313087</td>\n",
        "      <td>-0.508546</td>\n",
        "      <td>-0.252643</td>\n",
        "    </tr>\n",
        "    <tr>\n",
        "      <td><strong>6</strong></td>\n",
        "      <td>-0.019453</td>\n",
        "      <td>-0.408216</td>\n",
        "      <td> 0.223091</td>\n",
        "    </tr>\n",
        "    <tr>\n",
        "      <td><strong>7</strong></td>\n",
        "      <td> 0.263575</td>\n",
        "      <td>-0.257823</td>\n",
        "      <td>-0.519037</td>\n",
        "    </tr>\n",
        "    <tr>\n",
        "      <td><strong>8</strong></td>\n",
        "      <td> 0.459571</td>\n",
        "      <td> 0.881111</td>\n",
        "      <td>-0.830128</td>\n",
        "    </tr>\n",
        "    <tr>\n",
        "      <td><strong>9</strong></td>\n",
        "      <td>-0.811395</td>\n",
        "      <td> 0.373157</td>\n",
        "      <td>-0.167610</td>\n",
        "    </tr>\n",
        "  </tbody>\n",
        "</table>\n",
        "</div>"
       ],
       "output_type": "pyout",
       "prompt_number": 100,
       "text": [
        "          B         C         D\n",
        "2 -0.168659 -0.082678  0.910747\n",
        "3  0.826384 -1.554703  0.523983\n",
        "4  0.252605 -0.377538  1.482523\n",
        "5 -0.313087 -0.508546 -0.252643\n",
        "6 -0.019453 -0.408216  0.223091\n",
        "7  0.263575 -0.257823 -0.519037\n",
        "8  0.459571  0.881111 -0.830128\n",
        "9 -0.811395  0.373157 -0.167610"
       ]
      }
     ],
     "prompt_number": 100
    },
    {
     "cell_type": "markdown",
     "metadata": {},
     "source": [
      "To get a **row** as series, use the `xs` method"
     ]
    },
    {
     "cell_type": "code",
     "collapsed": false,
     "input": [
      "df1.xs(5)"
     ],
     "language": "python",
     "metadata": {},
     "outputs": [
      {
       "output_type": "pyout",
       "prompt_number": 101,
       "text": [
        "A   -0.122578\n",
        "B   -0.313087\n",
        "C   -0.508546\n",
        "D   -0.252643\n",
        "Name: 5"
       ]
      }
     ],
     "prompt_number": 101
    },
    {
     "cell_type": "code",
     "collapsed": false,
     "input": [
      "df1 + df2"
     ],
     "language": "python",
     "metadata": {},
     "outputs": [
      {
       "html": [
        "<div style=\"max-height:1000px;max-width:1500px;overflow:auto;\">\n",
        "<table border=\"1\">\n",
        "  <thead>\n",
        "    <tr>\n",
        "      <th></th>\n",
        "      <th>A</th>\n",
        "      <th>B</th>\n",
        "      <th>C</th>\n",
        "      <th>D</th>\n",
        "    </tr>\n",
        "  </thead>\n",
        "  <tbody>\n",
        "    <tr>\n",
        "      <td><strong>0</strong></td>\n",
        "      <td> 1.701858</td>\n",
        "      <td> 1.318119</td>\n",
        "      <td> 1.960658</td>\n",
        "      <td>NaN</td>\n",
        "    </tr>\n",
        "    <tr>\n",
        "      <td><strong>1</strong></td>\n",
        "      <td>-0.597756</td>\n",
        "      <td> 0.427007</td>\n",
        "      <td> 0.444310</td>\n",
        "      <td>NaN</td>\n",
        "    </tr>\n",
        "    <tr>\n",
        "      <td><strong>2</strong></td>\n",
        "      <td> 0.225584</td>\n",
        "      <td>-0.748580</td>\n",
        "      <td>-0.780415</td>\n",
        "      <td>NaN</td>\n",
        "    </tr>\n",
        "    <tr>\n",
        "      <td><strong>3</strong></td>\n",
        "      <td> 1.782346</td>\n",
        "      <td>-1.624044</td>\n",
        "      <td>-0.918569</td>\n",
        "      <td>NaN</td>\n",
        "    </tr>\n",
        "    <tr>\n",
        "      <td><strong>4</strong></td>\n",
        "      <td> 0.231725</td>\n",
        "      <td> 0.038184</td>\n",
        "      <td>-0.998994</td>\n",
        "      <td>NaN</td>\n",
        "    </tr>\n",
        "    <tr>\n",
        "      <td><strong>5</strong></td>\n",
        "      <td> 1.112178</td>\n",
        "      <td>-0.345975</td>\n",
        "      <td>-2.251267</td>\n",
        "      <td>NaN</td>\n",
        "    </tr>\n",
        "    <tr>\n",
        "      <td><strong>6</strong></td>\n",
        "      <td> 0.349596</td>\n",
        "      <td>-0.973476</td>\n",
        "      <td>-0.288348</td>\n",
        "      <td>NaN</td>\n",
        "    </tr>\n",
        "    <tr>\n",
        "      <td><strong>7</strong></td>\n",
        "      <td>      NaN</td>\n",
        "      <td>      NaN</td>\n",
        "      <td>      NaN</td>\n",
        "      <td>NaN</td>\n",
        "    </tr>\n",
        "    <tr>\n",
        "      <td><strong>8</strong></td>\n",
        "      <td>      NaN</td>\n",
        "      <td>      NaN</td>\n",
        "      <td>      NaN</td>\n",
        "      <td>NaN</td>\n",
        "    </tr>\n",
        "    <tr>\n",
        "      <td><strong>9</strong></td>\n",
        "      <td>      NaN</td>\n",
        "      <td>      NaN</td>\n",
        "      <td>      NaN</td>\n",
        "      <td>NaN</td>\n",
        "    </tr>\n",
        "  </tbody>\n",
        "</table>\n",
        "</div>"
       ],
       "output_type": "pyout",
       "prompt_number": 84,
       "text": [
        "          A         B         C   D\n",
        "0  1.701858  1.318119  1.960658 NaN\n",
        "1 -0.597756  0.427007  0.444310 NaN\n",
        "2  0.225584 -0.748580 -0.780415 NaN\n",
        "3  1.782346 -1.624044 -0.918569 NaN\n",
        "4  0.231725  0.038184 -0.998994 NaN\n",
        "5  1.112178 -0.345975 -2.251267 NaN\n",
        "6  0.349596 -0.973476 -0.288348 NaN\n",
        "7       NaN       NaN       NaN NaN\n",
        "8       NaN       NaN       NaN NaN\n",
        "9       NaN       NaN       NaN NaN"
       ]
      }
     ],
     "prompt_number": 84
    },
    {
     "cell_type": "code",
     "collapsed": false,
     "input": [
      "df1 * 20"
     ],
     "language": "python",
     "metadata": {},
     "outputs": [
      {
       "html": [
        "<div style=\"max-height:1000px;max-width:1500px;overflow:auto;\">\n",
        "<table border=\"1\">\n",
        "  <thead>\n",
        "    <tr>\n",
        "      <th></th>\n",
        "      <th>A</th>\n",
        "      <th>B</th>\n",
        "      <th>C</th>\n",
        "      <th>D</th>\n",
        "    </tr>\n",
        "  </thead>\n",
        "  <tbody>\n",
        "    <tr>\n",
        "      <td><strong>0</strong></td>\n",
        "      <td>-16.204574</td>\n",
        "      <td> 16.085803</td>\n",
        "      <td> 26.450872</td>\n",
        "      <td>-25.910140</td>\n",
        "    </tr>\n",
        "    <tr>\n",
        "      <td><strong>1</strong></td>\n",
        "      <td>-20.190056</td>\n",
        "      <td>  7.355689</td>\n",
        "      <td> 28.986173</td>\n",
        "      <td> -8.068843</td>\n",
        "    </tr>\n",
        "    <tr>\n",
        "      <td><strong>2</strong></td>\n",
        "      <td> -2.910299</td>\n",
        "      <td> -3.373189</td>\n",
        "      <td> -1.653569</td>\n",
        "      <td> 18.214941</td>\n",
        "    </tr>\n",
        "    <tr>\n",
        "      <td><strong>3</strong></td>\n",
        "      <td> -7.047791</td>\n",
        "      <td> 16.527674</td>\n",
        "      <td>-31.094064</td>\n",
        "      <td> 10.479661</td>\n",
        "    </tr>\n",
        "    <tr>\n",
        "      <td><strong>4</strong></td>\n",
        "      <td>-13.498742</td>\n",
        "      <td>  5.052093</td>\n",
        "      <td> -7.550762</td>\n",
        "      <td> 29.650469</td>\n",
        "    </tr>\n",
        "    <tr>\n",
        "      <td><strong>5</strong></td>\n",
        "      <td> -2.451553</td>\n",
        "      <td> -6.261747</td>\n",
        "      <td>-10.170923</td>\n",
        "      <td> -5.052870</td>\n",
        "    </tr>\n",
        "    <tr>\n",
        "      <td><strong>6</strong></td>\n",
        "      <td> 13.951855</td>\n",
        "      <td> -0.389054</td>\n",
        "      <td> -8.164320</td>\n",
        "      <td>  4.461814</td>\n",
        "    </tr>\n",
        "    <tr>\n",
        "      <td><strong>7</strong></td>\n",
        "      <td> -0.327028</td>\n",
        "      <td>  5.271503</td>\n",
        "      <td> -5.156455</td>\n",
        "      <td>-10.380740</td>\n",
        "    </tr>\n",
        "    <tr>\n",
        "      <td><strong>8</strong></td>\n",
        "      <td> 17.530465</td>\n",
        "      <td>  9.191419</td>\n",
        "      <td> 17.622211</td>\n",
        "      <td>-16.602551</td>\n",
        "    </tr>\n",
        "    <tr>\n",
        "      <td><strong>9</strong></td>\n",
        "      <td> 20.939020</td>\n",
        "      <td>-16.227909</td>\n",
        "      <td>  7.463149</td>\n",
        "      <td> -3.352209</td>\n",
        "    </tr>\n",
        "  </tbody>\n",
        "</table>\n",
        "</div>"
       ],
       "output_type": "pyout",
       "prompt_number": 103,
       "text": [
        "           A          B          C          D\n",
        "0 -16.204574  16.085803  26.450872 -25.910140\n",
        "1 -20.190056   7.355689  28.986173  -8.068843\n",
        "2  -2.910299  -3.373189  -1.653569  18.214941\n",
        "3  -7.047791  16.527674 -31.094064  10.479661\n",
        "4 -13.498742   5.052093  -7.550762  29.650469\n",
        "5  -2.451553  -6.261747 -10.170923  -5.052870\n",
        "6  13.951855  -0.389054  -8.164320   4.461814\n",
        "7  -0.327028   5.271503  -5.156455 -10.380740\n",
        "8  17.530465   9.191419  17.622211 -16.602551\n",
        "9  20.939020 -16.227909   7.463149  -3.352209"
       ]
      }
     ],
     "prompt_number": 103
    },
    {
     "cell_type": "markdown",
     "metadata": {},
     "source": [
      "Broadcasting with Series is done row wise:"
     ]
    },
    {
     "cell_type": "code",
     "collapsed": false,
     "input": [
      "df1 + df2.xs(2)"
     ],
     "language": "python",
     "metadata": {},
     "outputs": [
      {
       "html": [
        "<div style=\"max-height:1000px;max-width:1500px;overflow:auto;\">\n",
        "<table border=\"1\">\n",
        "  <thead>\n",
        "    <tr>\n",
        "      <th></th>\n",
        "      <th>A</th>\n",
        "      <th>B</th>\n",
        "      <th>C</th>\n",
        "      <th>D</th>\n",
        "    </tr>\n",
        "  </thead>\n",
        "  <tbody>\n",
        "    <tr>\n",
        "      <td><strong>0</strong></td>\n",
        "      <td>-0.439129</td>\n",
        "      <td> 0.224369</td>\n",
        "      <td> 0.624807</td>\n",
        "      <td>NaN</td>\n",
        "    </tr>\n",
        "    <tr>\n",
        "      <td><strong>1</strong></td>\n",
        "      <td>-0.638403</td>\n",
        "      <td>-0.212136</td>\n",
        "      <td> 0.751572</td>\n",
        "      <td>NaN</td>\n",
        "    </tr>\n",
        "    <tr>\n",
        "      <td><strong>2</strong></td>\n",
        "      <td> 0.225584</td>\n",
        "      <td>-0.748580</td>\n",
        "      <td>-0.780415</td>\n",
        "      <td>NaN</td>\n",
        "    </tr>\n",
        "    <tr>\n",
        "      <td><strong>3</strong></td>\n",
        "      <td> 0.018710</td>\n",
        "      <td> 0.246463</td>\n",
        "      <td>-2.252440</td>\n",
        "      <td>NaN</td>\n",
        "    </tr>\n",
        "    <tr>\n",
        "      <td><strong>4</strong></td>\n",
        "      <td>-0.303838</td>\n",
        "      <td>-0.327316</td>\n",
        "      <td>-1.075275</td>\n",
        "      <td>NaN</td>\n",
        "    </tr>\n",
        "    <tr>\n",
        "      <td><strong>5</strong></td>\n",
        "      <td> 0.248522</td>\n",
        "      <td>-0.893008</td>\n",
        "      <td>-1.206283</td>\n",
        "      <td>NaN</td>\n",
        "    </tr>\n",
        "    <tr>\n",
        "      <td><strong>6</strong></td>\n",
        "      <td> 1.068692</td>\n",
        "      <td>-0.599374</td>\n",
        "      <td>-1.105953</td>\n",
        "      <td>NaN</td>\n",
        "    </tr>\n",
        "    <tr>\n",
        "      <td><strong>7</strong></td>\n",
        "      <td> 0.354748</td>\n",
        "      <td>-0.316346</td>\n",
        "      <td>-0.955559</td>\n",
        "      <td>NaN</td>\n",
        "    </tr>\n",
        "    <tr>\n",
        "      <td><strong>8</strong></td>\n",
        "      <td> 1.247623</td>\n",
        "      <td>-0.120350</td>\n",
        "      <td> 0.183374</td>\n",
        "      <td>NaN</td>\n",
        "    </tr>\n",
        "    <tr>\n",
        "      <td><strong>9</strong></td>\n",
        "      <td> 1.418050</td>\n",
        "      <td>-1.391316</td>\n",
        "      <td>-0.324579</td>\n",
        "      <td>NaN</td>\n",
        "    </tr>\n",
        "  </tbody>\n",
        "</table>\n",
        "</div>"
       ],
       "output_type": "pyout",
       "prompt_number": 108,
       "text": [
        "          A         B         C   D\n",
        "0 -0.439129  0.224369  0.624807 NaN\n",
        "1 -0.638403 -0.212136  0.751572 NaN\n",
        "2  0.225584 -0.748580 -0.780415 NaN\n",
        "3  0.018710  0.246463 -2.252440 NaN\n",
        "4 -0.303838 -0.327316 -1.075275 NaN\n",
        "5  0.248522 -0.893008 -1.206283 NaN\n",
        "6  1.068692 -0.599374 -1.105953 NaN\n",
        "7  0.354748 -0.316346 -0.955559 NaN\n",
        "8  1.247623 -0.120350  0.183374 NaN\n",
        "9  1.418050 -1.391316 -0.324579 NaN"
       ]
      }
     ],
     "prompt_number": 108
    },
    {
     "cell_type": "markdown",
     "metadata": {},
     "source": [
      "For a `DataFrame`, each **column** must have the same type (unlike a 2d `ndarray`).\n",
      "\n",
      "When all columns have numerical values, NumPy functions can be used on the `DataFrame` just as if it was a 2d `ndarray`."
     ]
    },
    {
     "cell_type": "code",
     "collapsed": false,
     "input": [
      "np.exp(df1)"
     ],
     "language": "python",
     "metadata": {},
     "outputs": [
      {
       "html": [
        "<div style=\"max-height:1000px;max-width:1500px;overflow:auto;\">\n",
        "<table border=\"1\">\n",
        "  <thead>\n",
        "    <tr>\n",
        "      <th></th>\n",
        "      <th>A</th>\n",
        "      <th>B</th>\n",
        "      <th>C</th>\n",
        "      <th>D</th>\n",
        "    </tr>\n",
        "  </thead>\n",
        "  <tbody>\n",
        "    <tr>\n",
        "      <td><strong>0</strong></td>\n",
        "      <td> 0.444756</td>\n",
        "      <td> 2.235109</td>\n",
        "      <td> 3.752955</td>\n",
        "      <td> 0.273759</td>\n",
        "    </tr>\n",
        "    <tr>\n",
        "      <td><strong>1</strong></td>\n",
        "      <td> 0.364400</td>\n",
        "      <td> 1.444531</td>\n",
        "      <td> 4.260168</td>\n",
        "      <td> 0.668017</td>\n",
        "    </tr>\n",
        "    <tr>\n",
        "      <td><strong>2</strong></td>\n",
        "      <td> 0.864577</td>\n",
        "      <td> 0.844797</td>\n",
        "      <td> 0.920647</td>\n",
        "      <td> 2.486179</td>\n",
        "    </tr>\n",
        "    <tr>\n",
        "      <td><strong>3</strong></td>\n",
        "      <td> 0.703006</td>\n",
        "      <td> 2.285040</td>\n",
        "      <td> 0.211252</td>\n",
        "      <td> 1.688741</td>\n",
        "    </tr>\n",
        "    <tr>\n",
        "      <td><strong>4</strong></td>\n",
        "      <td> 0.509188</td>\n",
        "      <td> 1.287374</td>\n",
        "      <td> 0.685547</td>\n",
        "      <td> 4.404045</td>\n",
        "    </tr>\n",
        "    <tr>\n",
        "      <td><strong>5</strong></td>\n",
        "      <td> 0.884637</td>\n",
        "      <td> 0.731186</td>\n",
        "      <td> 0.601369</td>\n",
        "      <td> 0.776745</td>\n",
        "    </tr>\n",
        "    <tr>\n",
        "      <td><strong>6</strong></td>\n",
        "      <td> 2.008911</td>\n",
        "      <td> 0.980735</td>\n",
        "      <td> 0.664835</td>\n",
        "      <td> 1.249934</td>\n",
        "    </tr>\n",
        "    <tr>\n",
        "      <td><strong>7</strong></td>\n",
        "      <td> 0.983782</td>\n",
        "      <td> 1.301575</td>\n",
        "      <td> 0.772732</td>\n",
        "      <td> 0.595093</td>\n",
        "    </tr>\n",
        "    <tr>\n",
        "      <td><strong>8</strong></td>\n",
        "      <td> 2.402532</td>\n",
        "      <td> 1.583395</td>\n",
        "      <td> 2.413579</td>\n",
        "      <td> 0.435994</td>\n",
        "    </tr>\n",
        "    <tr>\n",
        "      <td><strong>9</strong></td>\n",
        "      <td> 2.848951</td>\n",
        "      <td> 0.444238</td>\n",
        "      <td> 1.452313</td>\n",
        "      <td> 0.845683</td>\n",
        "    </tr>\n",
        "  </tbody>\n",
        "</table>\n",
        "</div>"
       ],
       "output_type": "pyout",
       "prompt_number": 112,
       "text": [
        "          A         B         C         D\n",
        "0  0.444756  2.235109  3.752955  0.273759\n",
        "1  0.364400  1.444531  4.260168  0.668017\n",
        "2  0.864577  0.844797  0.920647  2.486179\n",
        "3  0.703006  2.285040  0.211252  1.688741\n",
        "4  0.509188  1.287374  0.685547  4.404045\n",
        "5  0.884637  0.731186  0.601369  0.776745\n",
        "6  2.008911  0.980735  0.664835  1.249934\n",
        "7  0.983782  1.301575  0.772732  0.595093\n",
        "8  2.402532  1.583395  2.413579  0.435994\n",
        "9  2.848951  0.444238  1.452313  0.845683"
       ]
      }
     ],
     "prompt_number": 112
    },
    {
     "cell_type": "markdown",
     "metadata": {},
     "source": [
      "This means `DataFrames` works almost seemlessly with SciPy or SciKits. In particular developers of statistics SciKits have started putting a lot of effort in to making their packages as Pandas compatible as possible."
     ]
    },
    {
     "cell_type": "markdown",
     "metadata": {},
     "source": [
      "It should be noted that Pandas also has a `Panel` data structure, which is a 3-dimensional structure which can be viewed conceptually as a \"Series of DataFrames\".\n",
      "\n",
      "In addition to this there are experimental data structures `Panel4D` and `PanelND`."
     ]
    },
    {
     "cell_type": "code",
     "collapsed": false,
     "input": [],
     "language": "python",
     "metadata": {},
     "outputs": []
    }
   ],
   "metadata": {}
  }
 ]
}