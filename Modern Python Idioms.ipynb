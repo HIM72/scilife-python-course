{
 "metadata": {
  "name": "Modern Python Idioms"
 },
 "nbformat": 3,
 "nbformat_minor": 0,
 "worksheets": [
  {
   "cells": [
    {
     "cell_type": "markdown",
     "metadata": {},
     "source": [
      "## Context Managers\n",
      "\n",
      "A _context manager_ is a way to specify particular runtime contexts in your python code.\n",
      "\n",
      "Most used example is file opening"
     ]
    },
    {
     "cell_type": "code",
     "collapsed": false,
     "input": [
      "with open(\"example.json\") as file_handle:\n",
      "    data = file_handle.read()"
     ],
     "language": "python",
     "metadata": {},
     "outputs": [],
     "prompt_number": 2
    },
    {
     "cell_type": "markdown",
     "metadata": {},
     "source": [
      "In the _context_ of the `with` block there is an open file object `file_handle`. Since having a file open takes limited system resources, it's always important to close open files."
     ]
    },
    {
     "cell_type": "code",
     "collapsed": false,
     "input": [
      "file_handle = open(\"example.json\")\n",
      "data = file_handle.read()\n",
      "file_handle.close()"
     ],
     "language": "python",
     "metadata": {},
     "outputs": [],
     "prompt_number": 9
    },
    {
     "cell_type": "markdown",
     "metadata": {},
     "source": [
      "One should however always do"
     ]
    },
    {
     "cell_type": "code",
     "collapsed": false,
     "input": [
      "file_handle = open(\"example.json\")\n",
      "try:\n",
      "    data = file_handle.read()\n",
      "finally:\n",
      "    file_handle.close()"
     ],
     "language": "python",
     "metadata": {},
     "outputs": [],
     "prompt_number": 7
    },
    {
     "cell_type": "markdown",
     "metadata": {},
     "source": [
      "In the case using the managed context, parts of setting up things, and ensuring that things get properly teared down, are handled automatically when _entering_ and _exiting_ the context.\n",
      "\n",
      "This pattern is extremely common, therefore we have the `with` statement which uses what we call context managers to create contexts.\n",
      "\n",
      "A context manager is a class whose objects (called a _context guard_) has an `__enter__` method and an `__exit__` method "
     ]
    },
    {
     "cell_type": "code",
     "collapsed": false,
     "input": [
      "class ContextManager(object):\n",
      "    def __enter__(self):\n",
      "        pass\n",
      "    \n",
      "    def __exit__(self, type, value, traceback):\n",
      "        pass"
     ],
     "language": "python",
     "metadata": {},
     "outputs": [],
     "prompt_number": 13
    },
    {
     "cell_type": "markdown",
     "metadata": {},
     "source": [
      "When using the `with` statement what actually happens is (equivalent to)"
     ]
    },
    {
     "cell_type": "code",
     "collapsed": false,
     "input": [
      "context_guard = ContextManager()\n",
      "value = context_guard.__enter__()\n",
      "exc = True\n",
      "try:\n",
      "    try:\n",
      "        var = value\n",
      "        pass  # Here the code in the context\n",
      "              # would go.\n",
      "\n",
      "    except:\n",
      "        exc = False\n",
      "        if not context_guard.__exit__(*sys.exc_info()):\n",
      "            raise\n",
      "\n",
      "finally:\n",
      "    if exc:\n",
      "        context_guard.__exit__(None, None, None)"
     ],
     "language": "python",
     "metadata": {},
     "outputs": [],
     "prompt_number": 20
    },
    {
     "cell_type": "markdown",
     "metadata": {},
     "source": [
      "If `__enter__` returns a value, this can be caught by `... as var`\n",
      "\n",
      "One can suppress exceptions under certain consitions with the return value of the `__exit__` method\n",
      "\n",
      "Example: "
     ]
    },
    {
     "cell_type": "code",
     "collapsed": false,
     "input": [
      "import sys\n",
      "from StringIO import StringIO\n",
      "\n",
      "class redirect_stdout:\n",
      "     def __init__(self, target):\n",
      "         self.stdout = sys.stdout\n",
      "         self.target = target\n",
      "\n",
      "     def __enter__(self):\n",
      "         sys.stdout = self.target\n",
      "\n",
      "     def __exit__(self, type, value, tb):\n",
      "         sys.stdout = self.stdout"
     ],
     "language": "python",
     "metadata": {},
     "outputs": [],
     "prompt_number": 22
    },
    {
     "cell_type": "code",
     "collapsed": false,
     "input": [
      "out = StringIO()"
     ],
     "language": "python",
     "metadata": {},
     "outputs": [],
     "prompt_number": 23
    },
    {
     "cell_type": "code",
     "collapsed": false,
     "input": [
      "with redirect_stdout(out):\n",
      "    print(\"Prints to sys.stdout\")"
     ],
     "language": "python",
     "metadata": {},
     "outputs": [],
     "prompt_number": 24
    },
    {
     "cell_type": "code",
     "collapsed": false,
     "input": [
      "print(\"This too\")"
     ],
     "language": "python",
     "metadata": {},
     "outputs": [
      {
       "output_type": "stream",
       "stream": "stdout",
       "text": [
        "This too\n"
       ]
      }
     ],
     "prompt_number": 27
    },
    {
     "cell_type": "code",
     "collapsed": false,
     "input": [
      "out.getvalue()"
     ],
     "language": "python",
     "metadata": {},
     "outputs": [
      {
       "output_type": "pyout",
       "prompt_number": 28,
       "text": [
        "'Prints to sys.stdout\\n'"
       ]
      }
     ],
     "prompt_number": 28
    },
    {
     "cell_type": "markdown",
     "metadata": {},
     "source": [
      "## Advanced String Formatting (?)"
     ]
    },
    {
     "cell_type": "markdown",
     "metadata": {},
     "source": [
      "## Decorators\n",
      "\n",
      "Say I have some functions defined in a module, among them these:"
     ]
    },
    {
     "cell_type": "code",
     "collapsed": false,
     "input": [
      "def my_add(x, y):\n",
      "    return x + y\n",
      "\n",
      "def my_subtract(x, y):\n",
      "    return x - y\n",
      "\n",
      "def my_multiply(x, y):\n",
      "    return x / y"
     ],
     "language": "python",
     "metadata": {},
     "outputs": [],
     "prompt_number": 40
    },
    {
     "cell_type": "markdown",
     "metadata": {},
     "source": [
      "But I decide that whenever I'm calling this subset of functions, I want to print the parameters.\n",
      "That means I would have to modify each function this way:"
     ]
    },
    {
     "cell_type": "code",
     "collapsed": false,
     "input": [
      "def my_add(x, y):\n",
      "    print(x, y)\n",
      "    return x + y\n",
      "\n",
      "my_add(6,7)"
     ],
     "language": "python",
     "metadata": {},
     "outputs": [
      {
       "output_type": "stream",
       "stream": "stdout",
       "text": [
        "(6, 7)\n"
       ]
      },
      {
       "output_type": "pyout",
       "prompt_number": 51,
       "text": [
        "13"
       ]
      }
     ],
     "prompt_number": 51
    },
    {
     "cell_type": "markdown",
     "metadata": {},
     "source": [
      "The printing functionality implementation would be the same for every function. This violates the principle of DRY: Don't Repeat Yourself.\n",
      "\n",
      "A better way would be to make the implementation of the argument printing once, and apply that implementation to each function."
     ]
    },
    {
     "cell_type": "code",
     "collapsed": false,
     "input": [
      "def print_args(function):\n",
      "    def wrapper(*args, **kwargs):\n",
      "        print(\"args: {}\".format(args))\n",
      "        print(\"kwargs: {}\".format(kwargs))\n",
      "\n",
      "        return function(*args, **kwargs)\n",
      "    \n",
      "    return wrapper"
     ],
     "language": "python",
     "metadata": {},
     "outputs": [],
     "prompt_number": 48
    },
    {
     "cell_type": "code",
     "collapsed": false,
     "input": [
      "def my_add(x, y):\n",
      "    return x + y\n",
      "\n",
      "my_add = print_args(my_add)\n",
      "\n",
      "my_add(3,4)"
     ],
     "language": "python",
     "metadata": {},
     "outputs": [
      {
       "output_type": "stream",
       "stream": "stdout",
       "text": [
        "args: (3, 4)\n",
        "kwargs: {}\n"
       ]
      },
      {
       "output_type": "pyout",
       "prompt_number": 50,
       "text": [
        "7"
       ]
      }
     ],
     "prompt_number": 50
    },
    {
     "cell_type": "markdown",
     "metadata": {},
     "source": [
      "There is a python shorthand for the definition and modification, which is a **decorator**."
     ]
    },
    {
     "cell_type": "code",
     "collapsed": false,
     "input": [
      "@print_args\n",
      "def my_subtract(x, y):\n",
      "    return x - y\n",
      "\n",
      "my_subtract(5,2)"
     ],
     "language": "python",
     "metadata": {},
     "outputs": [
      {
       "output_type": "stream",
       "stream": "stdout",
       "text": [
        "args: (5, 2)\n",
        "kwargs: {}\n"
       ]
      },
      {
       "output_type": "pyout",
       "prompt_number": 53,
       "text": [
        "3"
       ]
      }
     ],
     "prompt_number": 53
    },
    {
     "cell_type": "markdown",
     "metadata": {},
     "source": [
      "## Class Decorators"
     ]
    },
    {
     "cell_type": "code",
     "collapsed": false,
     "input": [],
     "language": "python",
     "metadata": {},
     "outputs": []
    }
   ],
   "metadata": {}
  }
 ]
}